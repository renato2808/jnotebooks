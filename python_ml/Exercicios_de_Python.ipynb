{
 "cells": [
  {
   "cell_type": "markdown",
   "metadata": {
    "colab_type": "text",
    "id": "NUsqYALqeDij"
   },
   "source": [
    "# Curso Deep Learning - Exercício pré-curso Python"
   ]
  },
  {
   "cell_type": "markdown",
   "metadata": {
    "colab_type": "text",
    "id": "dCImmucreDil"
   },
   "source": [
    "Este é um notebook Jupyter contendo exercícios de programação em Python.\n",
    "Estes exercícios servem para verificar os conhecimentos da linguagem Python.\n",
    "\n",
    "Esta lista de exercício é um guia de estudo. Para fazer os exercícios será necessário estudar funções básicas do Python e consultar documentação e tutoriais disponíveis na Internet."
   ]
  },
  {
   "cell_type": "markdown",
   "metadata": {
    "colab_type": "text",
    "id": "KFYP4jUPeDil"
   },
   "source": [
    "### Python"
   ]
  },
  {
   "cell_type": "markdown",
   "metadata": {
    "colab_type": "text",
    "id": "m4y_0BiqeDim"
   },
   "source": [
    "Estes exercícios devem ser feitos com o Python 3.\n",
    "Recomenda-se utilizar o Google Colab para fazer esses exercícios (https://colab.research.google.com/) pois o curso será oferecido nele. A vantagem do Colab é ser uma plataforma gratuito que permite o uso de GPU, fundamental para a realização dos exercícios de deep learning.\n"
   ]
  },
  {
   "cell_type": "markdown",
   "metadata": {
    "colab_type": "text",
    "id": "61BDrHC2eDin"
   },
   "source": [
    "### Jupyter notebook"
   ]
  },
  {
   "cell_type": "markdown",
   "metadata": {
    "colab_type": "text",
    "id": "Yc340OOqeDio"
   },
   "source": [
    "Este é um Notebook Jupyter. Um notebook Jupyter é uma mistura de linguagem Markdown para formatar texto (como uma Wiki) e um programa Python. É muito usado entre as pessoas que trabalham com Data Science e Machine Learning em Python.\n"
   ]
  },
  {
   "cell_type": "markdown",
   "metadata": {
    "colab_type": "text",
    "id": "qQduOjP1eDip"
   },
   "source": [
    "Você pode adicionar quantas células quiser neste notebook para deixar suas respostas bem organizadas."
   ]
  },
  {
   "cell_type": "markdown",
   "metadata": {
    "colab_type": "text",
    "id": "MY2ghASBeDiq"
   },
   "source": [
    "# Exercícios básicos"
   ]
  },
  {
   "cell_type": "markdown",
   "metadata": {
    "colab_type": "text",
    "id": "-n_ngjhFeDir"
   },
   "source": [
    "Vamos começar! Comece imprimindo seu nome e e-mail aqui:"
   ]
  },
  {
   "cell_type": "code",
   "execution_count": 98,
   "metadata": {
    "ExecuteTime": {
     "end_time": "2019-12-10T17:56:39.571965Z",
     "start_time": "2019-12-10T17:56:39.553102Z"
    },
    "colab": {},
    "colab_type": "code",
    "id": "c6k4_EtBeDis"
   },
   "outputs": [
    {
     "name": "stdout",
     "output_type": "stream",
     "text": [
      "My name is Renato Cesar Alves de Oliveira\n",
      "My email is renato.oliveira2808@gmail.com\n"
     ]
    }
   ],
   "source": [
    "# preencha com seus dados\n",
    "print('My name is Renato Cesar Alves de Oliveira')\n",
    "print('My email is renato.oliveira2808@gmail.com')"
   ]
  },
  {
   "cell_type": "markdown",
   "metadata": {
    "colab_type": "text",
    "id": "M_4o6k_ceDix"
   },
   "source": [
    "## Listas"
   ]
  },
  {
   "cell_type": "markdown",
   "metadata": {
    "ExecuteTime": {
     "end_time": "2017-07-11T19:32:04.310368",
     "start_time": "2017-07-11T19:32:04.302283"
    },
    "colab_type": "text",
    "id": "f-htX9EheDiy"
   },
   "source": [
    "Iremos utilizar muitas listas no curso Deep Learning.\n",
    "Seguem alguns exercícios com lista. Python é muito bom para processar listas. Uma lista é uma sequência de elementos \n",
    "separados por vírgula dentro de chaves:"
   ]
  },
  {
   "cell_type": "code",
   "execution_count": 99,
   "metadata": {
    "ExecuteTime": {
     "end_time": "2019-12-10T17:56:39.584119Z",
     "start_time": "2019-12-10T17:56:39.577266Z"
    },
    "colab": {},
    "colab_type": "code",
    "id": "dFBFTfzHeDiy"
   },
   "outputs": [],
   "source": [
    "mylist = [5, 8, 'abc', 0, 8.3]"
   ]
  },
  {
   "cell_type": "markdown",
   "metadata": {
    "ExecuteTime": {
     "end_time": "2017-07-11T19:20:42.951254",
     "start_time": "2017-07-11T19:20:42.947609"
    },
    "colab_type": "text",
    "id": "DOugXK2xeDi2"
   },
   "source": [
    "### Imprimindo o número de elementos de uma `mylist` e alguns de seus elementos. Veja como isso pode ser feito."
   ]
  },
  {
   "cell_type": "code",
   "execution_count": 100,
   "metadata": {
    "ExecuteTime": {
     "end_time": "2019-12-10T17:56:39.600238Z",
     "start_time": "2019-12-10T17:56:39.589826Z"
    },
    "colab": {},
    "colab_type": "code",
    "id": "Cqyjm2z8eDi3"
   },
   "outputs": [
    {
     "name": "stdout",
     "output_type": "stream",
     "text": [
      "5\n",
      "5\n",
      "8.3\n"
     ]
    }
   ],
   "source": [
    "print(len(mylist))\n",
    "print(mylist[0])\n",
    "print(mylist[-1])  # observe o índice -1 (o que isso significa?)"
   ]
  },
  {
   "cell_type": "markdown",
   "metadata": {
    "colab_type": "text",
    "id": "Af02in_ReDi6"
   },
   "source": [
    "## Seja uma lista de 10 elementos numéricos sequenciais, começando em zero"
   ]
  },
  {
   "cell_type": "markdown",
   "metadata": {
    "colab_type": "text",
    "id": "IRvoIE_xeDi7"
   },
   "source": [
    "O código a seguir é típico para criar uma lista com os 10 primeiros inteiros maiores ou iguais a zero: inicializa-se lista vazia, para cada i entre 0 e 10, faz append na lista a:"
   ]
  },
  {
   "cell_type": "code",
   "execution_count": 101,
   "metadata": {
    "ExecuteTime": {
     "end_time": "2019-12-10T17:56:39.613751Z",
     "start_time": "2019-12-10T17:56:39.604994Z"
    },
    "colab": {},
    "colab_type": "code",
    "id": "c0008PXSeDi8"
   },
   "outputs": [
    {
     "name": "stdout",
     "output_type": "stream",
     "text": [
      "[0, 1, 2, 3, 4, 5, 6, 7, 8, 9]\n"
     ]
    }
   ],
   "source": [
    "a = []\n",
    "for i in range(10):\n",
    "    a.append(i)\n",
    "print(a)"
   ]
  },
  {
   "cell_type": "markdown",
   "metadata": {
    "colab_type": "text",
    "id": "-5HrV05ceDi_"
   },
   "source": [
    "## List Comprehension"
   ]
  },
  {
   "cell_type": "markdown",
   "metadata": {
    "colab_type": "text",
    "id": "4Zq98JpxeDjA"
   },
   "source": [
    "Esta mesma lista pode ser criada utilizando a construção denominada \"List Comprehension\" ou\n",
    "\"Compreensão de Lista\" em português. Coloque este termo no Google adicionando python na frente na forma:\n",
    "\"python comprehension list\" e você poderá ver vários exemplos e tutoriais sobre o assunto. É uma forma compacta que fazer um append iterativo numa lista:\n",
    "\n",
    "Veja como o trecho acima foi reduzido para uma linha apenas:"
   ]
  },
  {
   "cell_type": "code",
   "execution_count": 102,
   "metadata": {
    "ExecuteTime": {
     "end_time": "2019-12-10T17:56:39.624474Z",
     "start_time": "2019-12-10T17:56:39.616642Z"
    },
    "colab": {},
    "colab_type": "code",
    "id": "Seuoicj8eDjB"
   },
   "outputs": [
    {
     "name": "stdout",
     "output_type": "stream",
     "text": [
      "[0, 1, 2, 3, 4, 5, 6, 7, 8, 9]\n"
     ]
    }
   ],
   "source": [
    "a = [i for i in range(10)]\n",
    "print(a)"
   ]
  },
  {
   "cell_type": "markdown",
   "metadata": {
    "colab_type": "text",
    "id": "USOmBZcMeDjF"
   },
   "source": [
    "### Exercicío: Analise o trecho de programa a seguir:"
   ]
  },
  {
   "cell_type": "code",
   "execution_count": 103,
   "metadata": {
    "ExecuteTime": {
     "end_time": "2019-12-10T17:56:39.643842Z",
     "start_time": "2019-12-10T17:56:39.628664Z"
    },
    "colab": {},
    "colab_type": "code",
    "id": "7y8pPtpceDjG"
   },
   "outputs": [
    {
     "name": "stdout",
     "output_type": "stream",
     "text": [
      "['0r', '1i', '2c', '3a', '4r', '5d', '6o']\n"
     ]
    }
   ],
   "source": [
    "m_list = ['r', 'i', 'c', 'a', 'r', 'd', 'o']\n",
    "new_list = []\n",
    "for k,item in enumerate(m_list):\n",
    "    new_list.append(str(k) + item)\n",
    "print(new_list)"
   ]
  },
  {
   "cell_type": "markdown",
   "metadata": {
    "colab_type": "text",
    "id": "s89o_lsWeDjJ"
   },
   "source": [
    "- Explique o que o enumerate faz no programa acima:\n",
    "\n",
    "Explicação:\n",
    "\n",
    "O código acima concatena a cada caractere da lista de caracateres m_list um o numero da posição do carectere na lista. O codigo new_list.append(str(k) + item) converte o inteiro k em sting e concatena o mesmo com o caractere da posiçkão k em m_list."
   ]
  },
  {
   "cell_type": "markdown",
   "metadata": {
    "colab_type": "text",
    "id": "bX2DUvvoeDjK"
   },
   "source": [
    "### Exercício: Repita o mesmo trecho acima de criar a lista new_list, porém utilizando list comprehension:\n",
    "   "
   ]
  },
  {
   "cell_type": "code",
   "execution_count": 104,
   "metadata": {
    "ExecuteTime": {
     "end_time": "2019-12-10T17:56:39.657736Z",
     "start_time": "2019-12-10T17:56:39.650100Z"
    },
    "colab": {},
    "colab_type": "code",
    "id": "5Ltn2M0IeDjL"
   },
   "outputs": [
    {
     "name": "stdout",
     "output_type": "stream",
     "text": [
      "['0r', '1i', '2c', '3a', '4r', '5d', '6o']\n"
     ]
    }
   ],
   "source": [
    "m_list = ['r', 'i', 'c', 'a', 'r', 'd', 'o']\n",
    "n_list = [str(k) + m_list[k] for k in range (len(m_list))] # utilize aqui o list comprehension\n",
    "print(n_list)"
   ]
  },
  {
   "cell_type": "markdown",
   "metadata": {
    "colab_type": "text",
    "id": "C33NJ04geDjN"
   },
   "source": [
    "## Fatiamento em Python"
   ]
  },
  {
   "cell_type": "markdown",
   "metadata": {
    "colab_type": "text",
    "id": "AdCosjffeDjO"
   },
   "source": [
    "Um conceito fundamental em Python é o do fatiamento \"slicing\", em inglês. É um conceito que será muito usado\n",
    "durante todo o curso. Estude bem isso. Inicialmente iremos trabalhar com fatiamento de lista, mas posteriormente\n",
    "com arrays (ou tensores) utilizando o NumPy"
   ]
  },
  {
   "cell_type": "code",
   "execution_count": 105,
   "metadata": {
    "ExecuteTime": {
     "end_time": "2019-12-10T17:56:39.666017Z",
     "start_time": "2019-12-10T17:56:39.661198Z"
    },
    "colab": {},
    "colab_type": "code",
    "id": "mjpVp6tWeDjQ"
   },
   "outputs": [
    {
     "name": "stdout",
     "output_type": "stream",
     "text": [
      "[3, 4]\n"
     ]
    }
   ],
   "source": [
    "print(a[3:5])"
   ]
  },
  {
   "cell_type": "markdown",
   "metadata": {
    "colab_type": "text",
    "id": "a-4C5w3JeDjW"
   },
   "source": [
    "### Exercício: Crie e imprima uma lista a partir da lista \"a\" já criada, porém apenas alguns elementos"
   ]
  },
  {
   "cell_type": "code",
   "execution_count": 106,
   "metadata": {
    "ExecuteTime": {
     "end_time": "2019-12-10T17:56:39.676947Z",
     "start_time": "2019-12-10T17:56:39.670923Z"
    },
    "colab": {},
    "colab_type": "code",
    "id": "bxck0sgGeDjW"
   },
   "outputs": [
    {
     "name": "stdout",
     "output_type": "stream",
     "text": [
      "[1, 3, 5, 7, 9]\n",
      "[0, 2, 4, 6, 8]\n",
      "[7, 8, 9]\n",
      "[0, 1, 2]\n"
     ]
    }
   ],
   "source": [
    "# imprima os elementos ímpares de a\n",
    "print(a[1::2])\n",
    "# imprima os elementos pares de a\n",
    "print(a[::2])\n",
    "# imprima os últimos 3 elementos da lista (utilize índice negativo, pesquise na Internet)\n",
    "print(a[-3:])\n",
    "# Imprima os 3 primeiros elementos da lista (veja quando é possível ignorar valores iniciais e finais)\n",
    "print(a[:3])"
   ]
  },
  {
   "cell_type": "markdown",
   "metadata": {
    "ExecuteTime": {
     "end_time": "2017-11-24T10:48:33.572314",
     "start_time": "2017-11-24T10:48:33.568302"
    },
    "colab_type": "text",
    "id": "l_8rbs1FeDjZ"
   },
   "source": [
    "### Veja o significado do passo, i.e. o terceiro parâmetro do \"fatiamento\":"
   ]
  },
  {
   "cell_type": "code",
   "execution_count": 107,
   "metadata": {
    "ExecuteTime": {
     "end_time": "2019-12-10T17:56:39.685197Z",
     "start_time": "2019-12-10T17:56:39.680220Z"
    },
    "colab": {},
    "colab_type": "code",
    "id": "IaApeoHHeDja"
   },
   "outputs": [
    {
     "name": "stdout",
     "output_type": "stream",
     "text": [
      "[0, 2, 4, 6, 8]\n",
      "[9, 8, 7, 6, 5, 4, 3, 2, 1, 0]\n"
     ]
    }
   ],
   "source": [
    "print(a[::2])\n",
    "print(a[::-1])"
   ]
  },
  {
   "cell_type": "markdown",
   "metadata": {
    "ExecuteTime": {
     "end_time": "2017-11-24T10:48:33.577743",
     "start_time": "2017-11-24T10:48:33.574177"
    },
    "colab_type": "text",
    "id": "DFf-3qimeDje"
   },
   "source": [
    "### Exercício: Imprima os elementos ímpares na order reversa, do maior para o menor"
   ]
  },
  {
   "cell_type": "code",
   "execution_count": 108,
   "metadata": {
    "ExecuteTime": {
     "end_time": "2019-12-10T17:56:39.692699Z",
     "start_time": "2019-12-10T17:56:39.688201Z"
    },
    "colab": {},
    "colab_type": "code",
    "id": "9qtOsr5_eDje"
   },
   "outputs": [
    {
     "name": "stdout",
     "output_type": "stream",
     "text": [
      "[9, 7, 5, 3, 1]\n"
     ]
    }
   ],
   "source": [
    "print(a[::-2])"
   ]
  },
  {
   "cell_type": "markdown",
   "metadata": {
    "colab_type": "text",
    "id": "faL-0MuJeDjh"
   },
   "source": [
    "## Tuplas"
   ]
  },
  {
   "cell_type": "markdown",
   "metadata": {
    "colab_type": "text",
    "id": "RvcMCaj1eDji"
   },
   "source": [
    "Dominar o conceito de tuplas é importante pois tuplas são estruturas muito utilizadas no Python."
   ]
  },
  {
   "cell_type": "code",
   "execution_count": 109,
   "metadata": {
    "ExecuteTime": {
     "end_time": "2019-12-10T17:56:39.700112Z",
     "start_time": "2019-12-10T17:56:39.695877Z"
    },
    "colab": {},
    "colab_type": "code",
    "id": "ulK_d0nTeDjj"
   },
   "outputs": [
    {
     "name": "stdout",
     "output_type": "stream",
     "text": [
      "(0, 1, 2, 3, 4, 5, 6, 7, 8, 9)\n"
     ]
    }
   ],
   "source": [
    "b = tuple(a)\n",
    "print(b)"
   ]
  },
  {
   "cell_type": "markdown",
   "metadata": {
    "colab_type": "text",
    "id": "q6r1skOkeDjn"
   },
   "source": [
    "### Exercício: Qual é a principal diferença entre uma lista e uma tupla?\n",
    "\n",
    "Resposta: A principal diferença é que a tupla é imutável."
   ]
  },
  {
   "cell_type": "markdown",
   "metadata": {
    "colab_type": "text",
    "id": "Y8giHwVSeDjo"
   },
   "source": [
    "# Dicionários em Python"
   ]
  },
  {
   "cell_type": "markdown",
   "metadata": {
    "colab_type": "text",
    "id": "frz1Df11eDjp"
   },
   "source": [
    "Python possui uma estrutura de dados muito versátil denominada dicionário.\n",
    "No curso Deep Learning, os parâmetros da rede neural serão armazenadas na forma de dicionário. Veja a seguir alguns exemplos de uso de dicionários:"
   ]
  },
  {
   "cell_type": "code",
   "execution_count": 110,
   "metadata": {
    "ExecuteTime": {
     "end_time": "2019-12-10T17:56:39.708263Z",
     "start_time": "2019-12-10T17:56:39.702983Z"
    },
    "colab": {},
    "colab_type": "code",
    "id": "_HVBYEVWeDjq"
   },
   "outputs": [
    {
     "name": "stdout",
     "output_type": "stream",
     "text": [
      "Roberto\n"
     ]
    }
   ],
   "source": [
    "rob_record = {'nome': 'Roberto', 'idade': 18}\n",
    "print(rob_record['nome'])"
   ]
  },
  {
   "cell_type": "code",
   "execution_count": 111,
   "metadata": {
    "ExecuteTime": {
     "end_time": "2019-12-10T17:56:39.719554Z",
     "start_time": "2019-12-10T17:56:39.711199Z"
    },
    "colab": {},
    "colab_type": "code",
    "id": "7DXeGirmeDjt"
   },
   "outputs": [
    {
     "name": "stdout",
     "output_type": "stream",
     "text": [
      "{'nome': 'Roberto', 'idade': 20}\n"
     ]
    }
   ],
   "source": [
    "rob_record['idade'] = 20\n",
    "print(rob_record)"
   ]
  },
  {
   "cell_type": "markdown",
   "metadata": {
    "colab_type": "text",
    "id": "lsLG0L1weDjw"
   },
   "source": [
    "Um lista contendo 3 dicionários:"
   ]
  },
  {
   "cell_type": "code",
   "execution_count": 112,
   "metadata": {
    "ExecuteTime": {
     "end_time": "2019-12-10T17:56:39.726559Z",
     "start_time": "2019-12-10T17:56:39.722628Z"
    },
    "colab": {},
    "colab_type": "code",
    "id": "03DNt-3deDjx"
   },
   "outputs": [],
   "source": [
    "records = [{'nome':'Alfredo', 'idade': 23},\n",
    "           {'nome':'Fernanda', 'idade': 16},\n",
    "           {'nome':'Carla', 'idade':33}]"
   ]
  },
  {
   "cell_type": "markdown",
   "metadata": {
    "ExecuteTime": {
     "end_time": "2017-11-24T10:48:33.603575",
     "start_time": "2017-11-24T10:48:33.601007"
    },
    "colab_type": "text",
    "id": "WqNdLEz-eDj0"
   },
   "source": [
    "### Exercício: Acesse o nome da Fernanda: complete e descomente a linha a seguir"
   ]
  },
  {
   "cell_type": "code",
   "execution_count": 113,
   "metadata": {
    "ExecuteTime": {
     "end_time": "2019-12-10T17:56:39.733629Z",
     "start_time": "2019-12-10T17:56:39.730430Z"
    },
    "colab": {},
    "colab_type": "code",
    "id": "t6qvYmDveDj0"
   },
   "outputs": [
    {
     "name": "stdout",
     "output_type": "stream",
     "text": [
      "Fernanda\n"
     ]
    }
   ],
   "source": [
    "print(records[1]['nome'])"
   ]
  },
  {
   "cell_type": "markdown",
   "metadata": {
    "ExecuteTime": {
     "end_time": "2017-11-24T10:48:33.609929",
     "start_time": "2017-11-24T10:48:33.605371"
    },
    "colab_type": "text",
    "id": "nx8vvXy6eDj6"
   },
   "source": [
    "### Exercício: crie uma lista com todos os nomes da lista records.\n",
    "\n",
    "O resultado deve ser uma lista ['Alfredo', 'Fernanda', 'Carla']"
   ]
  },
  {
   "cell_type": "code",
   "execution_count": 114,
   "metadata": {
    "ExecuteTime": {
     "end_time": "2019-12-10T17:56:39.741401Z",
     "start_time": "2019-12-10T17:56:39.736656Z"
    },
    "colab": {},
    "colab_type": "code",
    "id": "S5by9XXweDj7"
   },
   "outputs": [
    {
     "name": "stdout",
     "output_type": "stream",
     "text": [
      "['Alfredo', 'Fernanda', 'Carla']\n"
     ]
    }
   ],
   "source": [
    "# 1. Utilizando a forma tradicional de criar lista com append\n",
    "# porém sem utilizar o for i in range()\n",
    "nlist = []\n",
    "for record in records:\n",
    "   nlist.append(record['nome'])\n",
    "print(nlist)"
   ]
  },
  {
   "cell_type": "code",
   "execution_count": 115,
   "metadata": {
    "ExecuteTime": {
     "end_time": "2019-12-10T17:56:39.747944Z",
     "start_time": "2019-12-10T17:56:39.744532Z"
    },
    "colab": {},
    "colab_type": "code",
    "id": "gIAqzdx0eDj-"
   },
   "outputs": [
    {
     "name": "stdout",
     "output_type": "stream",
     "text": [
      "['Alfredo', 'Fernanda', 'Carla']\n"
     ]
    }
   ],
   "source": [
    "# 2. Utilizando a forma de list comprehension\n",
    "nlist2 = [record['nome'] for record in records]\n",
    "print(nlist2)"
   ]
  },
  {
   "cell_type": "markdown",
   "metadata": {
    "ExecuteTime": {
     "end_time": "2017-11-24T10:48:33.609929",
     "start_time": "2017-11-24T10:48:33.605371"
    },
    "colab_type": "text",
    "id": "N2nFzvsyDQVE"
   },
   "source": [
    "### Exercício: crie um dicionário com k itens mais frequentes de uma lista.\n",
    "\n",
    "Dada a lista de items `L=['a', 'd', 'a', 'd', 'b', 'd', 'c', 'e', 'a', 'b', 'e', 'e', 'a']` e `k=3`, o resultado deve ser um dicionário cuja chave é o item e o valor é a sua frequencia: {'a': 4, 'e': 3, 'd': 3}\n",
    "\n",
    "Experimente também com outros valores de `L` e `k` para verificar se sua solução está correta."
   ]
  },
  {
   "cell_type": "code",
   "execution_count": 116,
   "metadata": {
    "colab": {},
    "colab_type": "code",
    "id": "UdSfLqGfEXbf"
   },
   "outputs": [],
   "source": [
    "def top_k(L, k):\n",
    "    dicionario = {x:L.count(x) for x in L}\n",
    "    return dict(sorted(dicionario.items(), key=lambda x: x[1], reverse=True)[:k])"
   ]
  },
  {
   "cell_type": "code",
   "execution_count": 117,
   "metadata": {
    "colab": {},
    "colab_type": "code",
    "id": "qeW8jE4mEibX"
   },
   "outputs": [
    {
     "name": "stdout",
     "output_type": "stream",
     "text": [
      "{'e': 8, 'd': 6, 'a': 5, 'b': 4}\n"
     ]
    }
   ],
   "source": [
    "L =  ['a', 'd', 'a', 'd', 'b', 'd', 'c', 'e', 'c', 'b', 'e', 'e', 'a' , 'd', 'b', 'd', 'e', 'e', 'c', 'b', 'e', 'e', 'a', 'd', 'c', 'e', 'a']\n",
    "resultado = top_k(L, 4)\n",
    "print(resultado)"
   ]
  },
  {
   "cell_type": "markdown",
   "metadata": {
    "colab_type": "text",
    "id": "mSK2a2qCjEjW"
   },
   "source": [
    "# Exercicio: Criando um tokenizador simples\n",
    "Em processamento de linguagem natural, é comum convertemos as palavras de um texto para uma lista de identificadores dessas palavras. Dado o dicionário `V` abaixo onde as chaves são palavras e os valores são seus respectivos identificadores, converta o texto `D` para uma lista de identificadores.\n",
    "\n",
    "Palavras que não existem no dicionário deverão ser convertidas para o identificador do token `unknown`.\n",
    "\n",
    "O código deve ser insensível a maiúsculas (case-insensitive).\n",
    "\n",
    "Se atente que pontuações (vírgulas, ponto final, etc) também são consideradas palavras.\n"
   ]
  },
  {
   "cell_type": "code",
   "execution_count": 139,
   "metadata": {
    "colab": {},
    "colab_type": "code",
    "id": "aDNaUqHjkT6C"
   },
   "outputs": [
    {
     "name": "stdout",
     "output_type": "stream",
     "text": [
      "[1, 5, 2, 3, 2, 4, -1, -1, -1, -1, -1, 3, 2, -1, 5]\n"
     ]
    }
   ],
   "source": [
    "import re\n",
    "V = {'eu': 1, 'de': 2, 'gosto': 3, 'comer': 4, '.': 5, 'unknown': -1}\n",
    "D = 'Eu . de gosto de comer pizza com varias pessoas e gosto de pizza.'\n",
    "\n",
    "def tokens_to_ids(D, V):\n",
    "    res = []\n",
    "    words = re.findall(r\"[\\w']+|[.,!?;]\", D.lower())\n",
    "    for word in words:\n",
    "        if word in V.keys():\n",
    "            res.append(V[word])\n",
    "        else:\n",
    "            res.append(-1)\n",
    "    return res\n",
    "\n",
    "print(tokens_to_ids(D, V))"
   ]
  },
  {
   "cell_type": "markdown",
   "metadata": {
    "colab_type": "text",
    "id": "jXUvSuhceDoB"
   },
   "source": [
    "# Fim do notebook"
   ]
  }
 ],
 "metadata": {
  "colab": {
   "collapsed_sections": [],
   "name": "Exercicios de Python.ipynb",
   "provenance": [],
   "toc_visible": true
  },
  "kernelspec": {
   "display_name": "Python 3",
   "language": "python",
   "name": "python3"
  },
  "language_info": {
   "codemirror_mode": {
    "name": "ipython",
    "version": 3
   },
   "file_extension": ".py",
   "mimetype": "text/x-python",
   "name": "python",
   "nbconvert_exporter": "python",
   "pygments_lexer": "ipython3",
   "version": "3.8.1"
  },
  "toc": {
   "base_numbering": 1,
   "nav_menu": {
    "height": "354px",
    "width": "252px"
   },
   "number_sections": true,
   "sideBar": true,
   "skip_h1_title": false,
   "title_cell": "Table of Contents",
   "title_sidebar": "Contents",
   "toc_cell": false,
   "toc_position": {},
   "toc_section_display": "block",
   "toc_window_display": false
  },
  "varInspector": {
   "cols": {
    "lenName": 16,
    "lenType": 16,
    "lenVar": 40
   },
   "kernels_config": {
    "python": {
     "delete_cmd_postfix": "",
     "delete_cmd_prefix": "del ",
     "library": "var_list.py",
     "varRefreshCmd": "print(var_dic_list())"
    },
    "r": {
     "delete_cmd_postfix": ") ",
     "delete_cmd_prefix": "rm(",
     "library": "var_list.r",
     "varRefreshCmd": "cat(var_dic_list()) "
    }
   },
   "types_to_exclude": [
    "module",
    "function",
    "builtin_function_or_method",
    "instance",
    "_Feature"
   ],
   "window_display": false
  }
 },
 "nbformat": 4,
 "nbformat_minor": 2
}
