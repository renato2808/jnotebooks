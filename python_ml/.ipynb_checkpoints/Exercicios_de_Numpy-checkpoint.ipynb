{
  "nbformat": 4,
  "nbformat_minor": 0,
  "metadata": {
    "kernelspec": {
      "display_name": "Python 3",
      "language": "python",
      "name": "python3"
    },
    "language_info": {
      "codemirror_mode": {
        "name": "ipython",
        "version": 3
      },
      "file_extension": ".py",
      "mimetype": "text/x-python",
      "name": "python",
      "nbconvert_exporter": "python",
      "pygments_lexer": "ipython3",
      "version": "3.6.5"
    },
    "toc": {
      "base_numbering": 1,
      "nav_menu": {
        "height": "354px",
        "width": "252px"
      },
      "number_sections": true,
      "sideBar": true,
      "skip_h1_title": false,
      "title_cell": "Table of Contents",
      "title_sidebar": "Contents",
      "toc_cell": false,
      "toc_position": {},
      "toc_section_display": "block",
      "toc_window_display": false
    },
    "varInspector": {
      "cols": {
        "lenName": 16,
        "lenType": 16,
        "lenVar": 40
      },
      "kernels_config": {
        "python": {
          "delete_cmd_postfix": "",
          "delete_cmd_prefix": "del ",
          "library": "var_list.py",
          "varRefreshCmd": "print(var_dic_list())"
        },
        "r": {
          "delete_cmd_postfix": ") ",
          "delete_cmd_prefix": "rm(",
          "library": "var_list.r",
          "varRefreshCmd": "cat(var_dic_list()) "
        }
      },
      "types_to_exclude": [
        "module",
        "function",
        "builtin_function_or_method",
        "instance",
        "_Feature"
      ],
      "window_display": false
    },
    "colab": {
      "name": "Exercicios de Numpy.ipynb",
      "provenance": [],
      "collapsed_sections": [
        "ansV5TGMeDlA",
        "G6lt3BgVeDmA"
      ],
      "toc_visible": true
    }
  },
  "cells": [
    {
      "cell_type": "markdown",
      "metadata": {
        "id": "NUsqYALqeDij",
        "colab_type": "text"
      },
      "source": [
        "# Curso Deep Learning - Exercício pré-curso NumPy"
      ]
    },
    {
      "cell_type": "markdown",
      "metadata": {
        "id": "dCImmucreDil",
        "colab_type": "text"
      },
      "source": [
        "Este é um notebook Jupyter contendo exercícios de programação matricial utilizando o Python e biblioteca NumPy.\n",
        "Estes exercícios servem para verificar os conhecimentos da linguagem Python para manipulação matricial com a biblioteca NumPy.\n",
        "\n",
        "Esta lista de exercício é um guia de estudo. Para fazer os exercícios será necessário estudar o NumPy e consultar documentação e tutoriais disponíveis na Internet."
      ]
    },
    {
      "cell_type": "markdown",
      "metadata": {
        "id": "KFYP4jUPeDil",
        "colab_type": "text"
      },
      "source": [
        "### Python"
      ]
    },
    {
      "cell_type": "markdown",
      "metadata": {
        "id": "m4y_0BiqeDim",
        "colab_type": "text"
      },
      "source": [
        "Recomenda-se utilizar o Google Colab para fazer esses exercícios (https://colab.research.google.com/) pois o curso será oferecido nele. A vantagem do Colab é ser uma plataforma gratuito que permite o uso de GPU, fundamental para a realização dos exercícios de deep learning.\n"
      ]
    },
    {
      "cell_type": "markdown",
      "metadata": {
        "id": "61BDrHC2eDin",
        "colab_type": "text"
      },
      "source": [
        "### Jupyter notebook"
      ]
    },
    {
      "cell_type": "markdown",
      "metadata": {
        "id": "Yc340OOqeDio",
        "colab_type": "text"
      },
      "source": [
        "Este é um Notebook Jupyter. Um notebook Jupyter é uma mistura de linguagem Markdown para formatar texto (como uma Wiki) e um programa Python. É muito usado entre as pessoas que trabalham com Data Science e Machine Learning em Python.\n"
      ]
    },
    {
      "cell_type": "markdown",
      "metadata": {
        "id": "qQduOjP1eDip",
        "colab_type": "text"
      },
      "source": [
        "Você pode adicionar quantas células quiser neste notebook para deixar suas respostas bem organizadas."
      ]
    },
    {
      "cell_type": "markdown",
      "metadata": {
        "id": "ZfPpxsS_eDkB",
        "colab_type": "text"
      },
      "source": [
        "# Exercícios usando NumPy"
      ]
    },
    {
      "cell_type": "markdown",
      "metadata": {
        "id": "y7PzyzOUeDkB",
        "colab_type": "text"
      },
      "source": [
        "Os seguintes exercícios devem usar apenas o pacote NumPy.\n",
        "Não se deve utilizar nenhum outro pacote adicional.\n",
        "O NumPy é o pacote que faz o Python apropriado para programação científica.\n",
        "A programação eficiente de matrizes multidimensionais (arrays ou tensores) é\n",
        "feita através do conceito de programação matricial que evita o uso de laços\n",
        "e iterações nos elementos da matriz.\n",
        "\n",
        "Existem vários exemplos de uso de NumPy no conjunto de\n",
        "notebooks tutorias disponíveis no GitHub:\n",
        "- https://github.com/robertoalotufo/ia898/blob/master/master/0_index.ipynb"
      ]
    },
    {
      "cell_type": "markdown",
      "metadata": {
        "id": "k3Rwa7fgS__6",
        "colab_type": "text"
      },
      "source": [
        "## Preencha o seu nome"
      ]
    },
    {
      "cell_type": "code",
      "metadata": {
        "id": "z4Sx7P24S17-",
        "colab_type": "code",
        "colab": {
          "base_uri": "https://localhost:8080/",
          "height": 34
        },
        "outputId": "6aedf7a9-5def-445f-cad6-7f3cea561000"
      },
      "source": [
        "print('Meu nome é: XXXXX')"
      ],
      "execution_count": null,
      "outputs": [
        {
          "output_type": "stream",
          "text": [
            "Meu nome é: XXXXX\n"
          ],
          "name": "stdout"
        }
      ]
    },
    {
      "cell_type": "code",
      "metadata": {
        "ExecuteTime": {
          "end_time": "2019-12-10T17:56:40.132948Z",
          "start_time": "2019-12-10T17:56:39.750654Z"
        },
        "id": "E3GfnJKZeDkC",
        "colab_type": "code",
        "colab": {}
      },
      "source": [
        "import numpy as np"
      ],
      "execution_count": null,
      "outputs": []
    },
    {
      "cell_type": "markdown",
      "metadata": {
        "id": "m2xEXSHreDkF",
        "colab_type": "text"
      },
      "source": [
        "Veja como é possível criar um array unidimensional e depois reformatá-lo para ser acessado como array bidimensional:"
      ]
    },
    {
      "cell_type": "code",
      "metadata": {
        "ExecuteTime": {
          "end_time": "2019-12-10T17:56:40.162562Z",
          "start_time": "2019-12-10T17:56:40.137973Z"
        },
        "id": "13rOvqqAeDkG",
        "colab_type": "code",
        "colab": {}
      },
      "source": [
        "array = np.arange(10)\n",
        "print(array)\n",
        "print(array.shape)"
      ],
      "execution_count": null,
      "outputs": []
    },
    {
      "cell_type": "code",
      "metadata": {
        "ExecuteTime": {
          "end_time": "2019-12-10T17:56:40.182478Z",
          "start_time": "2019-12-10T17:56:40.169365Z"
        },
        "id": "F4b5LvQ9eDkI",
        "colab_type": "code",
        "colab": {}
      },
      "source": [
        "A = np.arange(24).reshape(4, 6)\n",
        "print(A)\n",
        "print(A.shape)"
      ],
      "execution_count": null,
      "outputs": []
    },
    {
      "cell_type": "markdown",
      "metadata": {
        "id": "KKHKQJo5eDkQ",
        "colab_type": "text"
      },
      "source": [
        "### Exercício: imprimindo rows, cols, dimensions, shape and datatype"
      ]
    },
    {
      "cell_type": "code",
      "metadata": {
        "ExecuteTime": {
          "end_time": "2019-12-10T17:56:40.199596Z",
          "start_time": "2019-12-10T17:56:40.186175Z"
        },
        "id": "u3gXSBoaeDkR",
        "colab_type": "code",
        "colab": {}
      },
      "source": [
        "# imprima o número de linhas de A\n",
        "print()\n",
        "# imprima o número de colunas de A\n",
        "print()\n",
        "# imprima o número de dimensões de A\n",
        "print()\n",
        "# imprima o shape de A:\n",
        "print()\n",
        "# imprima o tipo de dados (dtype) dos elementos de A:\n",
        "print()"
      ],
      "execution_count": null,
      "outputs": []
    },
    {
      "cell_type": "markdown",
      "metadata": {
        "id": "v6XnHJPReDkU",
        "colab_type": "text"
      },
      "source": [
        "### Reshape"
      ]
    },
    {
      "cell_type": "code",
      "metadata": {
        "ExecuteTime": {
          "end_time": "2019-12-10T17:56:40.214464Z",
          "start_time": "2019-12-10T17:56:40.206759Z"
        },
        "id": "twuLjuYzeDkV",
        "colab_type": "code",
        "colab": {}
      },
      "source": [
        "# Seja o vetor unidimensional a:\n",
        "a = np.array([1, 2, 3, 4])\n",
        "print(a, a.shape)"
      ],
      "execution_count": null,
      "outputs": []
    },
    {
      "cell_type": "markdown",
      "metadata": {
        "ExecuteTime": {
          "end_time": "2017-11-24T10:48:34.537220",
          "start_time": "2017-11-24T10:48:34.531910"
        },
        "id": "86JP18lfeDkY",
        "colab_type": "text"
      },
      "source": [
        "### Exercício: Converta o vetor unidimensional a em uma matriz vetor coluna (4 linhas e 1 coluna) utilizando reshape"
      ]
    },
    {
      "cell_type": "code",
      "metadata": {
        "ExecuteTime": {
          "end_time": "2019-12-10T17:56:40.231358Z",
          "start_time": "2019-12-10T17:56:40.220830Z"
        },
        "id": "OS1KkT90eDkZ",
        "colab_type": "code",
        "colab": {}
      },
      "source": [
        "a = a  # Escreva código aqui.\n",
        "print(a)"
      ],
      "execution_count": null,
      "outputs": []
    },
    {
      "cell_type": "markdown",
      "metadata": {
        "id": "hxPVfMLAeDkb",
        "colab_type": "text"
      },
      "source": [
        "## Exercício: Cópia por referência, cópia rasa e cópia profunda\n",
        "\n",
        "Explique a diferença entre estes 3 tipos de cópias e dê um exemplo de cada uma.\n",
        "O conceito aqui é em relação ao NumPy e não ao Python.\n",
        "**Resposta**:\n"
      ]
    },
    {
      "cell_type": "code",
      "metadata": {
        "ExecuteTime": {
          "end_time": "2019-12-10T17:56:40.242710Z",
          "start_time": "2019-12-10T17:56:40.236135Z"
        },
        "id": "p_Be-eNGeDkc",
        "colab_type": "code",
        "colab": {}
      },
      "source": [
        "# Indique para cada uma das expressões a seguir se a cópia é por referência, rasa ou profunda\n",
        "x = a # cópia ?\n",
        "y = a[:2] # cópia ?\n",
        "z = a.reshape(4, 1) # cópia ?\n",
        "zz = a.copy() # cópia ?"
      ],
      "execution_count": null,
      "outputs": []
    },
    {
      "cell_type": "code",
      "metadata": {
        "ExecuteTime": {
          "end_time": "2019-12-10T17:56:40.257657Z",
          "start_time": "2019-12-10T17:56:40.248201Z"
        },
        "id": "zeN_ZMNeeDkf",
        "colab_type": "code",
        "colab": {}
      },
      "source": [
        "# Explique o valor dos resultados:\n",
        "z[0,0] = 5\n",
        "print(a) # explique:\n",
        "y[1] = 6\n",
        "print(a) # explique:\n",
        "zz[0] = 7\n",
        "print(a) # explique:"
      ],
      "execution_count": null,
      "outputs": []
    },
    {
      "cell_type": "markdown",
      "metadata": {
        "id": "-D4i7WhceDki",
        "colab_type": "text"
      },
      "source": [
        "## Operações aritméticas"
      ]
    },
    {
      "cell_type": "code",
      "metadata": {
        "ExecuteTime": {
          "end_time": "2019-12-10T17:56:40.295188Z",
          "start_time": "2019-12-10T17:56:40.264886Z"
        },
        "id": "Yys85Qb-eDkj",
        "colab_type": "code",
        "colab": {}
      },
      "source": [
        "B = A + 10\n",
        "B"
      ],
      "execution_count": null,
      "outputs": []
    },
    {
      "cell_type": "markdown",
      "metadata": {
        "id": "bOcP0lBveDkn",
        "colab_type": "text"
      },
      "source": [
        "### Array binário (booleano)"
      ]
    },
    {
      "cell_type": "markdown",
      "metadata": {
        "ExecuteTime": {
          "end_time": "2017-11-24T10:48:34.559435",
          "start_time": "2017-11-24T10:48:34.555288"
        },
        "id": "gbFq-LWNeDko",
        "colab_type": "text"
      },
      "source": [
        "#### Exercício: Crie uma matriz booleana C com True nos elementos de B menores que 18 (não utilize loop explícito)"
      ]
    },
    {
      "cell_type": "code",
      "metadata": {
        "ExecuteTime": {
          "end_time": "2019-12-10T17:56:40.304894Z",
          "start_time": "2019-12-10T17:56:40.297941Z"
        },
        "id": "Z0snpJeAeDko",
        "colab_type": "code",
        "colab": {}
      },
      "source": [
        "C = B  # Modifique o código aqui.\n",
        "print(C)"
      ],
      "execution_count": null,
      "outputs": []
    },
    {
      "cell_type": "markdown",
      "metadata": {
        "id": "5nfiS3UgeDkr",
        "colab_type": "text"
      },
      "source": [
        "## Indexação booleana"
      ]
    },
    {
      "cell_type": "markdown",
      "metadata": {
        "id": "IHuFI5RKeDks",
        "colab_type": "text"
      },
      "source": [
        "### Exercício: explique o comando a seguir de indexação booleana"
      ]
    },
    {
      "cell_type": "code",
      "metadata": {
        "ExecuteTime": {
          "end_time": "2019-12-10T17:56:40.321735Z",
          "start_time": "2019-12-10T17:56:40.311748Z"
        },
        "id": "kw66ku8jeDks",
        "colab_type": "code",
        "colab": {}
      },
      "source": [
        "A[B < 18]"
      ],
      "execution_count": null,
      "outputs": []
    },
    {
      "cell_type": "markdown",
      "metadata": {
        "id": "xcpW3UgnTjF0",
        "colab_type": "text"
      },
      "source": [
        "Explicação:"
      ]
    },
    {
      "cell_type": "markdown",
      "metadata": {
        "id": "0HKgxRaKeDkv",
        "colab_type": "text"
      },
      "source": [
        "Veja um programa que cria matriz D_loop a partir da matriz B, porém trocando os elementos menores que 18 por seus valores negativos"
      ]
    },
    {
      "cell_type": "code",
      "metadata": {
        "ExecuteTime": {
          "end_time": "2019-12-10T17:56:40.334686Z",
          "start_time": "2019-12-10T17:56:40.325194Z"
        },
        "id": "VHxKXZCJeDkw",
        "colab_type": "code",
        "colab": {}
      },
      "source": [
        "D_loop = B.copy()\n",
        "for row in np.arange(B.shape[0]):\n",
        "    for col in np.arange(B.shape[1]):\n",
        "        if B[row,col] < 18:\n",
        "            D_loop[row,col] = - B[row,col]\n",
        "print(D_loop)"
      ],
      "execution_count": null,
      "outputs": []
    },
    {
      "cell_type": "markdown",
      "metadata": {
        "id": "nOi6QDcqeDk1",
        "colab_type": "text"
      },
      "source": [
        "### Exercício: Substitua o programa acima por uma única linha sem loop, utilizando indexação booleana e evitando o uso de `where`"
      ]
    },
    {
      "cell_type": "code",
      "metadata": {
        "ExecuteTime": {
          "end_time": "2019-12-10T17:56:40.346397Z",
          "start_time": "2019-12-10T17:56:40.337666Z"
        },
        "id": "5d-ZDxbmeDk2",
        "colab_type": "code",
        "colab": {}
      },
      "source": [
        "D = B   # << modifique aqui utilizando indexação booleana\n",
        "print(D)"
      ],
      "execution_count": null,
      "outputs": []
    },
    {
      "cell_type": "markdown",
      "metadata": {
        "id": "tasiyC2QeDk4",
        "colab_type": "text"
      },
      "source": [
        "## Redução de eixo: soma"
      ]
    },
    {
      "cell_type": "markdown",
      "metadata": {
        "id": "uI2VwH6leDk5",
        "colab_type": "text"
      },
      "source": [
        "Operações matriciais de redução de eixo são muito úteis e importantes.\n",
        "É um conceito importante da programação matricial.\n",
        "\n",
        "Estude o exemplo a seguir:"
      ]
    },
    {
      "cell_type": "code",
      "metadata": {
        "ExecuteTime": {
          "end_time": "2019-12-10T17:56:40.360645Z",
          "start_time": "2019-12-10T17:56:40.350099Z"
        },
        "id": "jbjnW-zGeDk7",
        "colab_type": "code",
        "colab": {}
      },
      "source": [
        "print(A)\n",
        "print(A.shape)\n",
        "As = A.sum(axis=0)\n",
        "print(As)\n",
        "print(As.shape)"
      ],
      "execution_count": null,
      "outputs": []
    },
    {
      "cell_type": "markdown",
      "metadata": {
        "ExecuteTime": {
          "end_time": "2017-11-24T10:48:34.585861",
          "start_time": "2017-11-24T10:48:34.582054"
        },
        "id": "ansV5TGMeDlA",
        "colab_type": "text"
      },
      "source": [
        "### Exercício: Explique o funcionamento da soma por redução de eixo. Qual foi a dimensão que desapareceu?\n",
        "\n",
        "Resposta: "
      ]
    },
    {
      "cell_type": "markdown",
      "metadata": {
        "ExecuteTime": {
          "end_time": "2017-11-24T10:48:34.585861",
          "start_time": "2017-11-24T10:48:34.582054"
        },
        "id": "cTtocpKGeDlB",
        "colab_type": "text"
      },
      "source": [
        "### Exercício: calcule o valor médio do array A"
      ]
    },
    {
      "cell_type": "code",
      "metadata": {
        "ExecuteTime": {
          "end_time": "2019-12-10T17:56:40.372210Z",
          "start_time": "2019-12-10T17:56:40.364380Z"
        },
        "id": "YHSWzCn3eDlB",
        "colab_type": "code",
        "colab": {}
      },
      "source": [
        "print()"
      ],
      "execution_count": null,
      "outputs": []
    },
    {
      "cell_type": "markdown",
      "metadata": {
        "id": "yqCQvJeeeDlH",
        "colab_type": "text"
      },
      "source": [
        "### Exercício: calcule o valor médio das linhas de A:"
      ]
    },
    {
      "cell_type": "code",
      "metadata": {
        "ExecuteTime": {
          "end_time": "2019-12-10T17:56:40.390105Z",
          "start_time": "2019-12-10T17:56:40.375159Z"
        },
        "id": "zwlor1HIeDlI",
        "colab_type": "code",
        "colab": {}
      },
      "source": [
        "print()"
      ],
      "execution_count": null,
      "outputs": []
    },
    {
      "cell_type": "markdown",
      "metadata": {
        "id": "zMGMB37DeDlM",
        "colab_type": "text"
      },
      "source": [
        "## Broadcasting"
      ]
    },
    {
      "cell_type": "markdown",
      "metadata": {
        "id": "DQ_BpGqteDlM",
        "colab_type": "text"
      },
      "source": [
        "### Exercício: O que significa o conceito de broadcasting em NumPy?\n",
        "\n",
        "Resposta:"
      ]
    },
    {
      "cell_type": "markdown",
      "metadata": {
        "id": "pL86ukPTUMFx",
        "colab_type": "text"
      },
      "source": [
        "### Exercício: Usando o conceito de broadcast, mude o shape do vetor a para que o broadcast possa ocorrer quando fizermos G = A + a"
      ]
    },
    {
      "cell_type": "code",
      "metadata": {
        "ExecuteTime": {
          "end_time": "2017-11-24T10:48:34.653339",
          "start_time": "2017-11-24T10:48:34.649183"
        },
        "id": "6ajgvMeueDlM",
        "colab_type": "code",
        "colab": {}
      },
      "source": [
        "a = np.arange(4)\n",
        "print(a)\n",
        "#G = A + a\n",
        "#print(G)"
      ],
      "execution_count": null,
      "outputs": []
    },
    {
      "cell_type": "markdown",
      "metadata": {
        "id": "2iI7udBFeDlP",
        "colab_type": "text"
      },
      "source": [
        "## Normalização entre 0 e 1"
      ]
    },
    {
      "cell_type": "markdown",
      "metadata": {
        "id": "ZU5bY1pqeDlR",
        "colab_type": "text"
      },
      "source": [
        "Seja a matriz $C$ que é a normalização da matriz $A$:\n",
        "$$ C(i,j) = \\frac{A(i,j) - A_{min}}{A_{max} - A_{min}} $$\n",
        "\n",
        "Em programação matricial, não se faz o loop em cada elemento da matriz,\n",
        "mas sim, utiliza-se operações matriciais. Faça o exercício a seguir\n",
        "sem utilizar laços explícitos:"
      ]
    },
    {
      "cell_type": "markdown",
      "metadata": {
        "id": "JtgSAAKjUfcO",
        "colab_type": "text"
      },
      "source": [
        "### Exercício: Criar a matriz C que é a normalização de A, de modo que os valores de C estejam entre 0 e 1.\n"
      ]
    },
    {
      "cell_type": "code",
      "metadata": {
        "ExecuteTime": {
          "end_time": "2019-12-11T00:00:34.072719Z",
          "start_time": "2019-12-11T00:00:34.036017Z"
        },
        "id": "_pDhb2-0eDlS",
        "colab_type": "code",
        "colab": {}
      },
      "source": [
        "C = A\n",
        "print(C)"
      ],
      "execution_count": null,
      "outputs": []
    },
    {
      "cell_type": "markdown",
      "metadata": {
        "id": "cbXIXsDIUmtp",
        "colab_type": "text"
      },
      "source": [
        "### Exercício: Modificar o exercício anterior, porém agora faça a normalização para cada coluna de A de modo que as colunas da matriz D estejam entre os valores de 0 a 1. Dica: utilize o conceito de redução de eixo.\n"
      ]
    },
    {
      "cell_type": "code",
      "metadata": {
        "ExecuteTime": {
          "end_time": "2019-12-10T17:56:40.413601Z",
          "start_time": "2019-12-10T17:56:40.405056Z"
        },
        "id": "i-5Hv8-heDlW",
        "colab_type": "code",
        "colab": {}
      },
      "source": [
        "D = A\n",
        "print(D)"
      ],
      "execution_count": null,
      "outputs": []
    },
    {
      "cell_type": "markdown",
      "metadata": {
        "id": "GF_P_GARU62m",
        "colab_type": "text"
      },
      "source": [
        "### Exercício: Modificar o exercício anterior, porém agora faça a normalização para cada linha de A de modo que as colunas da matriz E estejam entre os valores de 0 a 1. Dica: utilize o conceito de redução de eixo, porém mantenha o mesmo número de eixos para poder fazer broadcast."
      ]
    },
    {
      "cell_type": "code",
      "metadata": {
        "id": "6NgVzFOYeDla",
        "colab_type": "code",
        "colab": {}
      },
      "source": [
        "E = A\n",
        "print(E)"
      ],
      "execution_count": null,
      "outputs": []
    },
    {
      "cell_type": "markdown",
      "metadata": {
        "id": "XHLmfzVreDle",
        "colab_type": "text"
      },
      "source": [
        "## Fatiamento em arrays (slicing)"
      ]
    },
    {
      "cell_type": "code",
      "metadata": {
        "ExecuteTime": {
          "end_time": "2019-12-10T17:56:40.424712Z",
          "start_time": "2019-12-10T17:56:40.417272Z"
        },
        "id": "Xz471g10eDlf",
        "colab_type": "code",
        "colab": {}
      },
      "source": [
        "# esta indexação é chamada fatiamento:\n",
        "AA = A[:,1::2]\n",
        "print(AA)"
      ],
      "execution_count": null,
      "outputs": []
    },
    {
      "cell_type": "markdown",
      "metadata": {
        "id": "oly_fD5RWNFZ",
        "colab_type": "text"
      },
      "source": [
        "### Exercício: Crie a matriz AB apenas com as linhas pares da matriz A, utilizando o conceito de fatiamento:\n"
      ]
    },
    {
      "cell_type": "code",
      "metadata": {
        "ExecuteTime": {
          "end_time": "2019-12-10T17:56:40.437872Z",
          "start_time": "2019-12-10T17:56:40.428183Z"
        },
        "id": "eg3zLgR9eDlh",
        "colab_type": "code",
        "colab": {}
      },
      "source": [
        "AB = A\n",
        "print(AB)"
      ],
      "execution_count": null,
      "outputs": []
    },
    {
      "cell_type": "markdown",
      "metadata": {
        "id": "BDqYq2ymWRWq",
        "colab_type": "text"
      },
      "source": [
        "### Exercicío: Crie a matriz AC com mesmo shape da matriz A, porém com os elementos na ordem inversa, ou seja, trocando a ordem das linhas e das colunas.\n",
        "\n"
      ]
    },
    {
      "cell_type": "markdown",
      "metadata": {
        "id": "EeIDr_RydZU0",
        "colab_type": "text"
      },
      "source": [
        "Por exemplo, a matriz [[1, 2, 3], [4, 5, 6]] será transformada para [[6, 5, 4], [3, 2, 1]]"
      ]
    },
    {
      "cell_type": "code",
      "metadata": {
        "ExecuteTime": {
          "end_time": "2019-12-10T17:56:40.447762Z",
          "start_time": "2019-12-10T17:56:40.440731Z"
        },
        "id": "YiHkUweVeDlk",
        "colab_type": "code",
        "colab": {}
      },
      "source": [
        "AC = A\n",
        "print(AC)"
      ],
      "execution_count": null,
      "outputs": []
    },
    {
      "cell_type": "markdown",
      "metadata": {
        "id": "Ltb2QihyeDlm",
        "colab_type": "text"
      },
      "source": [
        "## Produto matricial  (dot product)"
      ]
    },
    {
      "cell_type": "markdown",
      "metadata": {
        "id": "P916bdpneDln",
        "colab_type": "text"
      },
      "source": [
        "### Exercício: Calcule a matriz E dada pelo produto matricial entre a matriz A e sua transposta: \n",
        "$$ E = A A^T $$"
      ]
    },
    {
      "cell_type": "code",
      "metadata": {
        "ExecuteTime": {
          "end_time": "2019-12-10T17:56:40.457617Z",
          "start_time": "2019-12-10T17:56:40.450430Z"
        },
        "id": "hOjk80hceDln",
        "colab_type": "code",
        "colab": {}
      },
      "source": [
        "E = A # modify your code here\n",
        "print(E)"
      ],
      "execution_count": null,
      "outputs": []
    },
    {
      "cell_type": "markdown",
      "metadata": {
        "id": "nbYr1dVcd7Rl",
        "colab_type": "text"
      },
      "source": [
        "### Exercício: Descomente a linha e explique por que a operação de multiplicação dá erro."
      ]
    },
    {
      "cell_type": "code",
      "metadata": {
        "ExecuteTime": {
          "end_time": "2019-12-10T17:56:40.465257Z",
          "start_time": "2019-12-10T17:56:40.460810Z"
        },
        "id": "LkAbXPsYeDlt",
        "colab_type": "code",
        "colab": {}
      },
      "source": [
        "#Ee = A * A.T"
      ],
      "execution_count": null,
      "outputs": []
    },
    {
      "cell_type": "markdown",
      "metadata": {
        "id": "ZWB_BBggeDlz",
        "colab_type": "text"
      },
      "source": [
        "## Matrizes multidimensionais"
      ]
    },
    {
      "cell_type": "markdown",
      "metadata": {
        "ExecuteTime": {
          "end_time": "2017-08-27T11:37:19.062565",
          "start_time": "2017-08-27T11:37:18.994081"
        },
        "id": "KpWXWxokeDl0",
        "colab_type": "text"
      },
      "source": [
        "Em deep learning, iremos utilizar matrizes multidimensionais\n",
        "que são denominados como arrays no NumPy. PyTorch usa o nome de tensor para\n",
        "suas matrizes multimensionais.\n",
        "\n",
        "Matrizes de dimensões maior que 4 são de difícil intuição. A melhor forma de lidar\n",
        "com elas é observando o seu *shape*."
      ]
    },
    {
      "cell_type": "markdown",
      "metadata": {
        "id": "49yeX7UpeDl1",
        "colab_type": "text"
      },
      "source": [
        "### 3-D array"
      ]
    },
    {
      "cell_type": "code",
      "metadata": {
        "ExecuteTime": {
          "end_time": "2019-12-10T17:56:40.474112Z",
          "start_time": "2019-12-10T17:56:40.468455Z"
        },
        "id": "BHyCf2wNeDl1",
        "colab_type": "code",
        "colab": {}
      },
      "source": [
        "F = A.reshape(2, 3, 4)\n",
        "print(F)"
      ],
      "execution_count": null,
      "outputs": []
    },
    {
      "cell_type": "markdown",
      "metadata": {
        "id": "7J5n1UiheDl5",
        "colab_type": "text"
      },
      "source": [
        "#### Indexação"
      ]
    },
    {
      "cell_type": "markdown",
      "metadata": {
        "id": "4p5U7YBZeDl6",
        "colab_type": "text"
      },
      "source": [
        "Estude as seguintes indexações:"
      ]
    },
    {
      "cell_type": "code",
      "metadata": {
        "ExecuteTime": {
          "end_time": "2019-12-10T17:56:52.815469Z",
          "start_time": "2019-12-10T17:56:52.810002Z"
        },
        "id": "gFEXDgk-eDl6",
        "colab_type": "code",
        "colab": {}
      },
      "source": [
        "F1 = F[1]\n",
        "print(F1)\n",
        "F2 = F[1,0,:]\n",
        "print(F2)\n",
        "F3 = F[1,0,2]\n",
        "print(F3)\n",
        "F4 = F[1:2,0,2]\n",
        "print(F4)"
      ],
      "execution_count": null,
      "outputs": []
    },
    {
      "cell_type": "code",
      "metadata": {
        "ExecuteTime": {
          "end_time": "2019-12-10T17:56:54.900989Z",
          "start_time": "2019-12-10T17:56:54.885810Z"
        },
        "id": "fG3IzVF8eDl9",
        "colab_type": "code",
        "colab": {}
      },
      "source": [
        "print(F1.shape)\n",
        "print(F2.shape)\n",
        "print(F3.shape)\n",
        "print(F4.shape)"
      ],
      "execution_count": null,
      "outputs": []
    },
    {
      "cell_type": "markdown",
      "metadata": {
        "ExecuteTime": {
          "end_time": "2017-11-24T10:48:34.642626",
          "start_time": "2017-11-24T10:48:34.638891"
        },
        "id": "G6lt3BgVeDmA",
        "colab_type": "text"
      },
      "source": [
        "### Exercício: Explique as dimensões de cada array:\n",
        "\n",
        "F1:\n",
        "\n",
        "F2:\n",
        "\n",
        "F3:\n",
        "\n",
        "F4:"
      ]
    },
    {
      "cell_type": "markdown",
      "metadata": {
        "id": "rtxCGlQKeDmA",
        "colab_type": "text"
      },
      "source": [
        "## Redução de eixo - aplicado a dois eixos simultâneos"
      ]
    },
    {
      "cell_type": "markdown",
      "metadata": {
        "id": "tJKWJmLWeDmB",
        "colab_type": "text"
      },
      "source": [
        "Redução de eixo é quando a operação matricial resulta num array de menores dimensões.\n",
        "Com essas operações, calcula-se estatística de colunas, linhas, etc."
      ]
    },
    {
      "cell_type": "markdown",
      "metadata": {
        "ExecuteTime": {
          "end_time": "2017-11-24T10:48:34.647517",
          "start_time": "2017-11-24T10:48:34.644317"
        },
        "id": "pRur77ojeDmB",
        "colab_type": "text"
      },
      "source": [
        "### Exercício: Calcule o valor médio das matrizes F[0] e F[1], usando apenas um único comando F.mean(??)"
      ]
    },
    {
      "cell_type": "code",
      "metadata": {
        "ExecuteTime": {
          "end_time": "2017-11-24T10:48:34.647517",
          "start_time": "2017-11-24T10:48:34.644317"
        },
        "id": "P2xNCCSYeDmC",
        "colab_type": "code",
        "colab": {}
      },
      "source": [
        "print()"
      ],
      "execution_count": null,
      "outputs": []
    },
    {
      "cell_type": "markdown",
      "metadata": {
        "id": "6v0cIIXWeDmF",
        "colab_type": "text"
      },
      "source": [
        "## Function - split - dados treino e validação"
      ]
    },
    {
      "cell_type": "markdown",
      "metadata": {
        "id": "5dSASYjheDmF",
        "colab_type": "text"
      },
      "source": [
        "O exercício a seguir é para separar um conjunto de dados (dataset) em dois conjuntos, um\n",
        "de treinamento e outro de validação.\n",
        "\n",
        "\n",
        "Defina uma função que receba como entrada uma matriz, (dataset), onde cada linha é\n",
        "referente a uma amostra e cada coluna referente a um atributo das amostras. O número total de\n",
        "amostras é dado pelas linhas desta matriz.\n",
        "Outro parâmetro de entrada é o fator de split `split_factor`, que é um número real entre 0 e 1. \n",
        "A saída da função são duas matrizes: amostras de treinamento e amostras de validação. \n",
        "A matriz de treinamento contrá o número de linhas dado por `split_factor` vezes o número de amostras.\n",
        "A matriz de validação conterá o restante das amostras."
      ]
    },
    {
      "cell_type": "code",
      "metadata": {
        "ExecuteTime": {
          "end_time": "2017-11-24T10:48:34.659465",
          "start_time": "2017-11-24T10:48:34.654983"
        },
        "id": "LyOrpLLdeDmG",
        "colab_type": "code",
        "colab": {}
      },
      "source": [
        "# Entrada, matriz contendo 10 amostras e 9 atributos\n",
        "aa = np.arange(90).reshape(10,9)\n",
        "print(aa)"
      ],
      "execution_count": null,
      "outputs": []
    },
    {
      "cell_type": "code",
      "metadata": {
        "ExecuteTime": {
          "end_time": "2017-11-24T10:48:34.665589",
          "start_time": "2017-11-24T10:48:34.661245"
        },
        "id": "4u4ZWVsEeDmI",
        "colab_type": "code",
        "colab": {}
      },
      "source": [
        "# Saída da função t,v = split(aa, 0.8)  # utilizado split_factor de 80%\n",
        "t = np.arange(72).reshape(8,9)\n",
        "print(t)"
      ],
      "execution_count": null,
      "outputs": []
    },
    {
      "cell_type": "code",
      "metadata": {
        "ExecuteTime": {
          "end_time": "2017-11-24T10:48:34.671172",
          "start_time": "2017-11-24T10:48:34.667187"
        },
        "id": "XyGauOiseDmK",
        "colab_type": "code",
        "colab": {}
      },
      "source": [
        "v = np.arange(72,90).reshape(2,9)\n",
        "print(v)"
      ],
      "execution_count": null,
      "outputs": []
    },
    {
      "cell_type": "code",
      "metadata": {
        "ExecuteTime": {
          "end_time": "2017-11-24T10:48:34.679672",
          "start_time": "2017-11-24T10:48:34.672840"
        },
        "id": "hV4qwjYgeDmO",
        "colab_type": "code",
        "colab": {}
      },
      "source": [
        "# Evite o uso de laço explícito\n",
        "# Não utilize outras bibliotecas além do NumPy\n",
        "def split(dados, split_factor):\n",
        "    '''\n",
        "    divide a matriz dados em dois conjuntos:\n",
        "    matriz train: split_factor * n. de linhas de dados\n",
        "    matriz val: (1-split_factor) * n. de linhas de dados\n",
        "    parametros entrada:\n",
        "        dados: matriz de entrada\n",
        "        split_factor: entre 0. e 1. - fator de divisão em duas matrizes\n",
        "    parametros de saída:\n",
        "        train : matriz com as linhas iniciais de dados\n",
        "        val: matriz com as linhas restantes\n",
        "    '''\n",
        "    # insert your code here\n",
        "    train = val = 0\n",
        "    return train, val\n",
        "\n",
        "t,v = split(aa, 0.8)\n",
        "print('t=\\n', t)\n",
        "print('v=\\n', v)"
      ],
      "execution_count": null,
      "outputs": []
    },
    {
      "cell_type": "markdown",
      "metadata": {
        "ExecuteTime": {
          "end_time": "2017-11-24T10:48:34.684472",
          "start_time": "2017-11-24T10:48:34.681557"
        },
        "collapsed": true,
        "id": "78Cn6MnPeDmS",
        "colab_type": "text"
      },
      "source": [
        "### Exercício: Teste sua função com outros valores"
      ]
    },
    {
      "cell_type": "code",
      "metadata": {
        "id": "v-eQP6oHeDmT",
        "colab_type": "code",
        "colab": {}
      },
      "source": [
        ""
      ],
      "execution_count": null,
      "outputs": []
    },
    {
      "cell_type": "markdown",
      "metadata": {
        "id": "g113cvI5Sq2k",
        "colab_type": "text"
      },
      "source": [
        "# Fim do Notebook"
      ]
    }
  ]
}