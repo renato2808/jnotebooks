{
 "cells": [
  {
   "cell_type": "markdown",
   "metadata": {
    "colab_type": "text",
    "id": "NUsqYALqeDij"
   },
   "source": [
    "# Curso Deep Learning - Exercício pré-curso NumPy"
   ]
  },
  {
   "cell_type": "markdown",
   "metadata": {
    "colab_type": "text",
    "id": "dCImmucreDil"
   },
   "source": [
    "Este é um notebook Jupyter contendo exercícios de programação matricial utilizando o Python e biblioteca NumPy.\n",
    "Estes exercícios servem para verificar os conhecimentos da linguagem Python para manipulação matricial com a biblioteca NumPy.\n",
    "\n",
    "Esta lista de exercício é um guia de estudo. Para fazer os exercícios será necessário estudar o NumPy e consultar documentação e tutoriais disponíveis na Internet."
   ]
  },
  {
   "cell_type": "markdown",
   "metadata": {
    "colab_type": "text",
    "id": "KFYP4jUPeDil"
   },
   "source": [
    "### Python"
   ]
  },
  {
   "cell_type": "markdown",
   "metadata": {
    "colab_type": "text",
    "id": "m4y_0BiqeDim"
   },
   "source": [
    "Recomenda-se utilizar o Google Colab para fazer esses exercícios (https://colab.research.google.com/) pois o curso será oferecido nele. A vantagem do Colab é ser uma plataforma gratuito que permite o uso de GPU, fundamental para a realização dos exercícios de deep learning.\n"
   ]
  },
  {
   "cell_type": "markdown",
   "metadata": {
    "colab_type": "text",
    "id": "61BDrHC2eDin"
   },
   "source": [
    "### Jupyter notebook"
   ]
  },
  {
   "cell_type": "markdown",
   "metadata": {
    "colab_type": "text",
    "id": "Yc340OOqeDio"
   },
   "source": [
    "Este é um Notebook Jupyter. Um notebook Jupyter é uma mistura de linguagem Markdown para formatar texto (como uma Wiki) e um programa Python. É muito usado entre as pessoas que trabalham com Data Science e Machine Learning em Python.\n"
   ]
  },
  {
   "cell_type": "markdown",
   "metadata": {
    "colab_type": "text",
    "id": "qQduOjP1eDip"
   },
   "source": [
    "Você pode adicionar quantas células quiser neste notebook para deixar suas respostas bem organizadas."
   ]
  },
  {
   "cell_type": "markdown",
   "metadata": {
    "colab_type": "text",
    "id": "ZfPpxsS_eDkB"
   },
   "source": [
    "# Exercícios usando NumPy"
   ]
  },
  {
   "cell_type": "markdown",
   "metadata": {
    "colab_type": "text",
    "id": "y7PzyzOUeDkB"
   },
   "source": [
    "Os seguintes exercícios devem usar apenas o pacote NumPy.\n",
    "Não se deve utilizar nenhum outro pacote adicional.\n",
    "O NumPy é o pacote que faz o Python apropriado para programação científica.\n",
    "A programação eficiente de matrizes multidimensionais (arrays ou tensores) é\n",
    "feita através do conceito de programação matricial que evita o uso de laços\n",
    "e iterações nos elementos da matriz.\n",
    "\n",
    "Existem vários exemplos de uso de NumPy no conjunto de\n",
    "notebooks tutorias disponíveis no GitHub:\n",
    "- https://github.com/robertoalotufo/ia898/blob/master/master/0_index.ipynb"
   ]
  },
  {
   "cell_type": "markdown",
   "metadata": {
    "colab_type": "text",
    "id": "k3Rwa7fgS__6"
   },
   "source": [
    "## Preencha o seu nome"
   ]
  },
  {
   "cell_type": "code",
   "execution_count": 1,
   "metadata": {
    "colab": {
     "base_uri": "https://localhost:8080/",
     "height": 34
    },
    "colab_type": "code",
    "id": "z4Sx7P24S17-",
    "outputId": "6aedf7a9-5def-445f-cad6-7f3cea561000"
   },
   "outputs": [
    {
     "name": "stdout",
     "output_type": "stream",
     "text": [
      "Meu nome é: Renato César Alves de Oliveira\n"
     ]
    }
   ],
   "source": [
    "print('Meu nome é: Renato César Alves de Oliveira')"
   ]
  },
  {
   "cell_type": "code",
   "execution_count": 2,
   "metadata": {
    "ExecuteTime": {
     "end_time": "2019-12-10T17:56:40.132948Z",
     "start_time": "2019-12-10T17:56:39.750654Z"
    },
    "colab": {},
    "colab_type": "code",
    "id": "E3GfnJKZeDkC"
   },
   "outputs": [],
   "source": [
    "import numpy as np"
   ]
  },
  {
   "cell_type": "markdown",
   "metadata": {
    "colab_type": "text",
    "id": "m2xEXSHreDkF"
   },
   "source": [
    "Veja como é possível criar um array unidimensional e depois reformatá-lo para ser acessado como array bidimensional:"
   ]
  },
  {
   "cell_type": "code",
   "execution_count": 3,
   "metadata": {
    "ExecuteTime": {
     "end_time": "2019-12-10T17:56:40.162562Z",
     "start_time": "2019-12-10T17:56:40.137973Z"
    },
    "colab": {},
    "colab_type": "code",
    "id": "13rOvqqAeDkG"
   },
   "outputs": [
    {
     "name": "stdout",
     "output_type": "stream",
     "text": [
      "[0 1 2 3 4 5 6 7 8 9]\n",
      "(10,)\n"
     ]
    }
   ],
   "source": [
    "array = np.arange(10)\n",
    "print(array)\n",
    "print(array.shape)"
   ]
  },
  {
   "cell_type": "code",
   "execution_count": 4,
   "metadata": {
    "ExecuteTime": {
     "end_time": "2019-12-10T17:56:40.182478Z",
     "start_time": "2019-12-10T17:56:40.169365Z"
    },
    "colab": {},
    "colab_type": "code",
    "id": "F4b5LvQ9eDkI"
   },
   "outputs": [
    {
     "name": "stdout",
     "output_type": "stream",
     "text": [
      "[[ 0  1  2  3  4  5]\n",
      " [ 6  7  8  9 10 11]\n",
      " [12 13 14 15 16 17]\n",
      " [18 19 20 21 22 23]]\n",
      "(4, 6)\n"
     ]
    }
   ],
   "source": [
    "A = np.arange(24).reshape(4, 6)\n",
    "print(A)\n",
    "print(A.shape)"
   ]
  },
  {
   "cell_type": "markdown",
   "metadata": {
    "colab_type": "text",
    "id": "KKHKQJo5eDkQ"
   },
   "source": [
    "### Exercício: imprimindo rows, cols, dimensions, shape and datatype"
   ]
  },
  {
   "cell_type": "code",
   "execution_count": 5,
   "metadata": {
    "ExecuteTime": {
     "end_time": "2019-12-10T17:56:40.199596Z",
     "start_time": "2019-12-10T17:56:40.186175Z"
    },
    "colab": {},
    "colab_type": "code",
    "id": "u3gXSBoaeDkR"
   },
   "outputs": [
    {
     "name": "stdout",
     "output_type": "stream",
     "text": [
      "4\n",
      "6\n",
      "2\n",
      "(4, 6)\n",
      "int32\n"
     ]
    }
   ],
   "source": [
    "# imprima o número de linhas de A\n",
    "print(A.shape[0])\n",
    "# imprima o número de colunas de A\n",
    "print(A.shape[1])\n",
    "# imprima o número de dimensões de A\n",
    "print(A.ndim)\n",
    "# imprima o shape de A:\n",
    "print(A.shape)\n",
    "# imprima o tipo de dados (dtype) dos elementos de A:\n",
    "print(A.dtype)"
   ]
  },
  {
   "cell_type": "markdown",
   "metadata": {
    "colab_type": "text",
    "id": "v6XnHJPReDkU"
   },
   "source": [
    "### Reshape"
   ]
  },
  {
   "cell_type": "code",
   "execution_count": 6,
   "metadata": {
    "ExecuteTime": {
     "end_time": "2019-12-10T17:56:40.214464Z",
     "start_time": "2019-12-10T17:56:40.206759Z"
    },
    "colab": {},
    "colab_type": "code",
    "id": "twuLjuYzeDkV"
   },
   "outputs": [
    {
     "name": "stdout",
     "output_type": "stream",
     "text": [
      "[1 2 3 4] (4,)\n"
     ]
    }
   ],
   "source": [
    "# Seja o vetor unidimensional a:\n",
    "a = np.array([1, 2, 3, 4])\n",
    "print(a, a.shape)"
   ]
  },
  {
   "cell_type": "markdown",
   "metadata": {
    "ExecuteTime": {
     "end_time": "2017-11-24T10:48:34.537220",
     "start_time": "2017-11-24T10:48:34.531910"
    },
    "colab_type": "text",
    "id": "86JP18lfeDkY"
   },
   "source": [
    "### Exercício: Converta o vetor unidimensional a em uma matriz vetor coluna (4 linhas e 1 coluna) utilizando reshape"
   ]
  },
  {
   "cell_type": "code",
   "execution_count": 7,
   "metadata": {
    "ExecuteTime": {
     "end_time": "2019-12-10T17:56:40.231358Z",
     "start_time": "2019-12-10T17:56:40.220830Z"
    },
    "colab": {},
    "colab_type": "code",
    "id": "OS1KkT90eDkZ"
   },
   "outputs": [
    {
     "name": "stdout",
     "output_type": "stream",
     "text": [
      "[[1]\n",
      " [2]\n",
      " [3]\n",
      " [4]]\n"
     ]
    }
   ],
   "source": [
    "a = a.reshape(4,1)\n",
    "print(a)"
   ]
  },
  {
   "cell_type": "markdown",
   "metadata": {
    "colab_type": "text",
    "id": "hxPVfMLAeDkb"
   },
   "source": [
    "## Exercício: Cópia por referência, cópia rasa e cópia profunda\n",
    "\n",
    "Explique a diferença entre estes 3 tipos de cópias e dê um exemplo de cada uma.\n",
    "O conceito aqui é em relação ao NumPy e não ao Python.\n",
    "**Resposta**:\n",
    "\n",
    "Na cópia por referência (x = a), a variável x passa a apontar para o mesmo objeto que a variável a, sendo assim, no exemplo abaixo, a, x, y e z referenciam o mesmo objeto (ou atributos do mesmo objeto) e, por isso, quando quando quaisquer um deles são modificados, o mesmo objeto está sendo modificado.\n",
    "\n",
    "Já a variável zz é uma cópia rasa de a, ou seja, é um objeto totalmente diferente e independente de a e quando é modificado não afeta o mesmo objeto referenciado por a.\n",
    "\n",
    "A cópia profunda (deepcopy()) não esá sendo usado abaixo, e é aplicável quando um objeto referencia uma  concatenação de objetos, nesse caso, a cópia profunda cria uma coóia tanto do objeto em como de suas referências. Já a cópia rasa só cria uma cópia do objeto, mantendo iguais possíveis referências a outros objetos.\n"
   ]
  },
  {
   "cell_type": "code",
   "execution_count": 10,
   "metadata": {
    "ExecuteTime": {
     "end_time": "2019-12-10T17:56:40.242710Z",
     "start_time": "2019-12-10T17:56:40.236135Z"
    },
    "colab": {},
    "colab_type": "code",
    "id": "p_Be-eNGeDkc"
   },
   "outputs": [
    {
     "name": "stdout",
     "output_type": "stream",
     "text": [
      "[[1]\n",
      " [2]]\n"
     ]
    }
   ],
   "source": [
    "# Indique para cada uma das expressões a seguir se a cópia é por referência, rasa ou profunda\n",
    "x = a # cópia por referencia\n",
    "y = a[:2] # cópia por referencia\n",
    "print(y)\n",
    "z = a.reshape(4, 1) # cópia por referencia\n",
    "zz = a.copy() # cópia rasa"
   ]
  },
  {
   "cell_type": "code",
   "execution_count": 11,
   "metadata": {
    "ExecuteTime": {
     "end_time": "2019-12-10T17:56:40.257657Z",
     "start_time": "2019-12-10T17:56:40.248201Z"
    },
    "colab": {},
    "colab_type": "code",
    "id": "zeN_ZMNeeDkf"
   },
   "outputs": [
    {
     "name": "stdout",
     "output_type": "stream",
     "text": [
      "[[5]\n",
      " [2]\n",
      " [3]\n",
      " [4]]\n",
      "[[5]\n",
      " [6]\n",
      " [3]\n",
      " [4]]\n",
      "[[5]\n",
      " [6]\n",
      " [3]\n",
      " [4]]\n",
      "2385593813792\n",
      "2385593857088\n",
      "2385593813792\n",
      "2385593814272\n",
      "2385593857168\n"
     ]
    }
   ],
   "source": [
    "# Explique o valor dos resultados:\n",
    "z[0,0] = 5\n",
    "print(a) # explique:\n",
    "y[1] = 6\n",
    "print(a) # explique:\n",
    "zz[0] = 7\n",
    "print(a) # explique:\n",
    "\n",
    "print(id(a))\n",
    "print(id(z))\n",
    "print(id(x))\n",
    "print(id(y))\n",
    "print(id(zz))"
   ]
  },
  {
   "cell_type": "markdown",
   "metadata": {
    "colab_type": "text",
    "id": "-D4i7WhceDki"
   },
   "source": [
    "## Operações aritméticas"
   ]
  },
  {
   "cell_type": "code",
   "execution_count": 43,
   "metadata": {
    "ExecuteTime": {
     "end_time": "2019-12-10T17:56:40.295188Z",
     "start_time": "2019-12-10T17:56:40.264886Z"
    },
    "colab": {},
    "colab_type": "code",
    "id": "Yys85Qb-eDkj"
   },
   "outputs": [
    {
     "data": {
      "text/plain": [
       "array([[10, 11, 12, 13, 14, 15],\n",
       "       [16, 17, 18, 19, 20, 21],\n",
       "       [22, 23, 24, 25, 26, 27],\n",
       "       [28, 29, 30, 31, 32, 33]])"
      ]
     },
     "execution_count": 43,
     "metadata": {},
     "output_type": "execute_result"
    }
   ],
   "source": [
    "B = A + 10\n",
    "B"
   ]
  },
  {
   "cell_type": "markdown",
   "metadata": {
    "colab_type": "text",
    "id": "bOcP0lBveDkn"
   },
   "source": [
    "### Array binário (booleano)"
   ]
  },
  {
   "cell_type": "markdown",
   "metadata": {
    "ExecuteTime": {
     "end_time": "2017-11-24T10:48:34.559435",
     "start_time": "2017-11-24T10:48:34.555288"
    },
    "colab_type": "text",
    "id": "gbFq-LWNeDko"
   },
   "source": [
    "#### Exercício: Crie uma matriz booleana C com True nos elementos de B menores que 18 (não utilize loop explícito)"
   ]
  },
  {
   "cell_type": "code",
   "execution_count": 44,
   "metadata": {
    "ExecuteTime": {
     "end_time": "2019-12-10T17:56:40.304894Z",
     "start_time": "2019-12-10T17:56:40.297941Z"
    },
    "colab": {},
    "colab_type": "code",
    "id": "Z0snpJeAeDko"
   },
   "outputs": [
    {
     "name": "stdout",
     "output_type": "stream",
     "text": [
      "[[ True  True  True  True  True  True]\n",
      " [ True  True False False False False]\n",
      " [False False False False False False]\n",
      " [False False False False False False]]\n"
     ]
    }
   ],
   "source": [
    "C = B<18  # Modifique o código aqui.\n",
    "print(C)"
   ]
  },
  {
   "cell_type": "markdown",
   "metadata": {
    "colab_type": "text",
    "id": "5nfiS3UgeDkr"
   },
   "source": [
    "## Indexação booleana"
   ]
  },
  {
   "cell_type": "markdown",
   "metadata": {
    "colab_type": "text",
    "id": "IHuFI5RKeDks"
   },
   "source": [
    "### Exercício: explique o comando a seguir de indexação booleana"
   ]
  },
  {
   "cell_type": "code",
   "execution_count": 45,
   "metadata": {
    "ExecuteTime": {
     "end_time": "2019-12-10T17:56:40.321735Z",
     "start_time": "2019-12-10T17:56:40.311748Z"
    },
    "colab": {},
    "colab_type": "code",
    "id": "kw66ku8jeDks"
   },
   "outputs": [
    {
     "data": {
      "text/plain": [
       "array([0, 1, 2, 3, 4, 5, 6, 7])"
      ]
     },
     "execution_count": 45,
     "metadata": {},
     "output_type": "execute_result"
    }
   ],
   "source": [
    "A[B < 18]"
   ]
  },
  {
   "cell_type": "markdown",
   "metadata": {
    "colab_type": "text",
    "id": "xcpW3UgnTjF0"
   },
   "source": [
    "Explicação: Constrói um array de inteiros cujos elementos correspondem aos indexes das posições (em uma dimensão) dos elemtos de B que são menores que 18."
   ]
  },
  {
   "cell_type": "markdown",
   "metadata": {
    "colab_type": "text",
    "id": "0HKgxRaKeDkv"
   },
   "source": [
    "Veja um programa que cria matriz D_loop a partir da matriz B, porém trocando os elementos menores que 18 por seus valores negativos"
   ]
  },
  {
   "cell_type": "code",
   "execution_count": 46,
   "metadata": {
    "ExecuteTime": {
     "end_time": "2019-12-10T17:56:40.334686Z",
     "start_time": "2019-12-10T17:56:40.325194Z"
    },
    "colab": {},
    "colab_type": "code",
    "id": "VHxKXZCJeDkw"
   },
   "outputs": [
    {
     "name": "stdout",
     "output_type": "stream",
     "text": [
      "[[-10 -11 -12 -13 -14 -15]\n",
      " [-16 -17  18  19  20  21]\n",
      " [ 22  23  24  25  26  27]\n",
      " [ 28  29  30  31  32  33]]\n"
     ]
    }
   ],
   "source": [
    "D_loop = B.copy()\n",
    "for row in np.arange(B.shape[0]):\n",
    "    for col in np.arange(B.shape[1]):\n",
    "        if B[row,col] < 18:\n",
    "            D_loop[row,col] = - B[row,col]\n",
    "print(D_loop)"
   ]
  },
  {
   "cell_type": "markdown",
   "metadata": {
    "colab_type": "text",
    "id": "nOi6QDcqeDk1"
   },
   "source": [
    "### Exercício: Substitua o programa acima por uma única linha sem loop, utilizando indexação booleana e evitando o uso de `where`"
   ]
  },
  {
   "cell_type": "code",
   "execution_count": 51,
   "metadata": {
    "ExecuteTime": {
     "end_time": "2019-12-10T17:56:40.346397Z",
     "start_time": "2019-12-10T17:56:40.337666Z"
    },
    "colab": {},
    "colab_type": "code",
    "id": "5d-ZDxbmeDk2"
   },
   "outputs": [
    {
     "name": "stdout",
     "output_type": "stream",
     "text": [
      "[[-10 -11 -12 -13 -14 -15]\n",
      " [-16 -17  18  19  20  21]\n",
      " [ 22  23  24  25  26  27]\n",
      " [ 28  29  30  31  32  33]]\n"
     ]
    }
   ],
   "source": [
    "D = np.where(B <18, -B, B) \n",
    "print(D)"
   ]
  },
  {
   "cell_type": "markdown",
   "metadata": {
    "colab_type": "text",
    "id": "tasiyC2QeDk4"
   },
   "source": [
    "## Redução de eixo: soma"
   ]
  },
  {
   "cell_type": "markdown",
   "metadata": {
    "colab_type": "text",
    "id": "uI2VwH6leDk5"
   },
   "source": [
    "Operações matriciais de redução de eixo são muito úteis e importantes.\n",
    "É um conceito importante da programação matricial.\n",
    "\n",
    "Estude o exemplo a seguir:"
   ]
  },
  {
   "cell_type": "code",
   "execution_count": 62,
   "metadata": {
    "ExecuteTime": {
     "end_time": "2019-12-10T17:56:40.360645Z",
     "start_time": "2019-12-10T17:56:40.350099Z"
    },
    "colab": {},
    "colab_type": "code",
    "id": "jbjnW-zGeDk7"
   },
   "outputs": [
    {
     "name": "stdout",
     "output_type": "stream",
     "text": [
      "[[ 0  1  2  3  4  5]\n",
      " [ 6  7  8  9 10 11]\n",
      " [12 13 14 15 16 17]\n",
      " [18 19 20 21 22 23]]\n",
      "(4, 6)\n",
      "[36 40 44 48 52 56]\n",
      "(6,)\n"
     ]
    }
   ],
   "source": [
    "print(A)\n",
    "print(A.shape)\n",
    "As = A.sum(axis=0)\n",
    "print(As)\n",
    "print(As.shape)"
   ]
  },
  {
   "cell_type": "markdown",
   "metadata": {
    "ExecuteTime": {
     "end_time": "2017-11-24T10:48:34.585861",
     "start_time": "2017-11-24T10:48:34.582054"
    },
    "colab_type": "text",
    "id": "ansV5TGMeDlA"
   },
   "source": [
    "### Exercício: Explique o funcionamento da soma por redução de eixo. Qual foi a dimensão que desapareceu?\n",
    "\n",
    "Resposta: Soma todos os elementos do eixo indicado e o resultado da soma corresponde aos elemetos do eixo que permanece. No exemplo acima, as linhas (eixo 0) são condensadas em uma unica linha e a soma dos elementos das linhas de cada coluna são os elementos que que permanecem nas colunas."
   ]
  },
  {
   "cell_type": "markdown",
   "metadata": {
    "ExecuteTime": {
     "end_time": "2017-11-24T10:48:34.585861",
     "start_time": "2017-11-24T10:48:34.582054"
    },
    "colab_type": "text",
    "id": "cTtocpKGeDlB"
   },
   "source": [
    "### Exercício: calcule o valor médio do array A"
   ]
  },
  {
   "cell_type": "code",
   "execution_count": 64,
   "metadata": {
    "ExecuteTime": {
     "end_time": "2019-12-10T17:56:40.372210Z",
     "start_time": "2019-12-10T17:56:40.364380Z"
    },
    "colab": {},
    "colab_type": "code",
    "id": "YHSWzCn3eDlB"
   },
   "outputs": [
    {
     "name": "stdout",
     "output_type": "stream",
     "text": [
      "11.5\n"
     ]
    }
   ],
   "source": [
    "print(A.mean())"
   ]
  },
  {
   "cell_type": "markdown",
   "metadata": {
    "colab_type": "text",
    "id": "yqCQvJeeeDlH"
   },
   "source": [
    "### Exercício: calcule o valor médio das linhas de A:"
   ]
  },
  {
   "cell_type": "code",
   "execution_count": 67,
   "metadata": {
    "ExecuteTime": {
     "end_time": "2019-12-10T17:56:40.390105Z",
     "start_time": "2019-12-10T17:56:40.375159Z"
    },
    "colab": {},
    "colab_type": "code",
    "id": "zwlor1HIeDlI"
   },
   "outputs": [
    {
     "name": "stdout",
     "output_type": "stream",
     "text": [
      "[ 2.5  8.5 14.5 20.5]\n"
     ]
    }
   ],
   "source": [
    "print(A.mean(axis=1))"
   ]
  },
  {
   "cell_type": "markdown",
   "metadata": {
    "colab_type": "text",
    "id": "zMGMB37DeDlM"
   },
   "source": [
    "## Broadcasting"
   ]
  },
  {
   "cell_type": "markdown",
   "metadata": {
    "colab_type": "text",
    "id": "DQ_BpGqteDlM"
   },
   "source": [
    "### Exercício: O que significa o conceito de broadcasting em NumPy?\n",
    "\n",
    "Resposta: Broadcasting se refere a maneira que numpy, ao realizar operções entre matrizes, acomoda matrizes com dimensões diferentes e, sendo assim, não é necessário, por exemplo, que uma soma de matrizes ambas tenham as mesmas dimensões, contanto que ao menos uma delas tenha uma dimensão 1."
   ]
  },
  {
   "cell_type": "markdown",
   "metadata": {
    "colab_type": "text",
    "id": "pL86ukPTUMFx"
   },
   "source": [
    "### Exercício: Usando o conceito de broadcast, mude o shape do vetor a para que o broadcast possa ocorrer quando fizermos G = A + a"
   ]
  },
  {
   "cell_type": "code",
   "execution_count": 71,
   "metadata": {
    "ExecuteTime": {
     "end_time": "2017-11-24T10:48:34.653339",
     "start_time": "2017-11-24T10:48:34.649183"
    },
    "colab": {},
    "colab_type": "code",
    "id": "6ajgvMeueDlM"
   },
   "outputs": [
    {
     "name": "stdout",
     "output_type": "stream",
     "text": [
      "[[0]\n",
      " [1]\n",
      " [2]\n",
      " [3]]\n",
      "[[ 0  1  2  3  4  5]\n",
      " [ 7  8  9 10 11 12]\n",
      " [14 15 16 17 18 19]\n",
      " [21 22 23 24 25 26]]\n"
     ]
    }
   ],
   "source": [
    "a = np.arange(4)\n",
    "a = a.reshape(4,1)\n",
    "print(a)\n",
    "G = A + a\n",
    "print(G)"
   ]
  },
  {
   "cell_type": "markdown",
   "metadata": {
    "colab_type": "text",
    "id": "2iI7udBFeDlP"
   },
   "source": [
    "## Normalização entre 0 e 1"
   ]
  },
  {
   "cell_type": "markdown",
   "metadata": {
    "colab_type": "text",
    "id": "ZU5bY1pqeDlR"
   },
   "source": [
    "Seja a matriz $C$ que é a normalização da matriz $A$:\n",
    "$$ C(i,j) = \\frac{A(i,j) - A_{min}}{A_{max} - A_{min}} $$\n",
    "\n",
    "Em programação matricial, não se faz o loop em cada elemento da matriz,\n",
    "mas sim, utiliza-se operações matriciais. Faça o exercício a seguir\n",
    "sem utilizar laços explícitos:"
   ]
  },
  {
   "cell_type": "markdown",
   "metadata": {
    "colab_type": "text",
    "id": "JtgSAAKjUfcO"
   },
   "source": [
    "### Exercício: Criar a matriz C que é a normalização de A, de modo que os valores de C estejam entre 0 e 1.\n"
   ]
  },
  {
   "cell_type": "code",
   "execution_count": 72,
   "metadata": {
    "ExecuteTime": {
     "end_time": "2019-12-11T00:00:34.072719Z",
     "start_time": "2019-12-11T00:00:34.036017Z"
    },
    "colab": {},
    "colab_type": "code",
    "id": "_pDhb2-0eDlS"
   },
   "outputs": [
    {
     "name": "stdout",
     "output_type": "stream",
     "text": [
      "[[0.         0.04347826 0.08695652 0.13043478 0.17391304 0.2173913 ]\n",
      " [0.26086957 0.30434783 0.34782609 0.39130435 0.43478261 0.47826087]\n",
      " [0.52173913 0.56521739 0.60869565 0.65217391 0.69565217 0.73913043]\n",
      " [0.7826087  0.82608696 0.86956522 0.91304348 0.95652174 1.        ]]\n"
     ]
    }
   ],
   "source": [
    "C = (A - A.min())/(A.max()-A.min())\n",
    "print(C)"
   ]
  },
  {
   "cell_type": "markdown",
   "metadata": {
    "colab_type": "text",
    "id": "cbXIXsDIUmtp"
   },
   "source": [
    "### Exercício: Modificar o exercício anterior, porém agora faça a normalização para cada coluna de A de modo que as colunas da matriz D estejam entre os valores de 0 a 1. Dica: utilize o conceito de redução de eixo.\n"
   ]
  },
  {
   "cell_type": "code",
   "execution_count": 79,
   "metadata": {
    "ExecuteTime": {
     "end_time": "2019-12-10T17:56:40.413601Z",
     "start_time": "2019-12-10T17:56:40.405056Z"
    },
    "colab": {},
    "colab_type": "code",
    "id": "i-5Hv8-heDlW"
   },
   "outputs": [
    {
     "name": "stdout",
     "output_type": "stream",
     "text": [
      "[[0.         0.         0.         0.         0.         0.        ]\n",
      " [0.33333333 0.33333333 0.33333333 0.33333333 0.33333333 0.33333333]\n",
      " [0.66666667 0.66666667 0.66666667 0.66666667 0.66666667 0.66666667]\n",
      " [1.         1.         1.         1.         1.         1.        ]]\n"
     ]
    },
    {
     "data": {
      "text/plain": [
       "array([[ 0],\n",
       "       [ 6],\n",
       "       [12],\n",
       "       [18]])"
      ]
     },
     "execution_count": 79,
     "metadata": {},
     "output_type": "execute_result"
    }
   ],
   "source": [
    "D = (A - A.min(0))/(A.max(0)-A.min(0))\n",
    "print(D)\n",
    "A.min(1).reshape(4,1)"
   ]
  },
  {
   "cell_type": "markdown",
   "metadata": {
    "colab_type": "text",
    "id": "GF_P_GARU62m"
   },
   "source": [
    "### Exercício: Modificar o exercício anterior, porém agora faça a normalização para cada linha de A de modo que as colunas da matriz E estejam entre os valores de 0 a 1. Dica: utilize o conceito de redução de eixo, porém mantenha o mesmo número de eixos para poder fazer broadcast."
   ]
  },
  {
   "cell_type": "code",
   "execution_count": 80,
   "metadata": {
    "colab": {},
    "colab_type": "code",
    "id": "6NgVzFOYeDla"
   },
   "outputs": [
    {
     "name": "stdout",
     "output_type": "stream",
     "text": [
      "[[0.  0.2 0.4 0.6 0.8 1. ]\n",
      " [0.  0.2 0.4 0.6 0.8 1. ]\n",
      " [0.  0.2 0.4 0.6 0.8 1. ]\n",
      " [0.  0.2 0.4 0.6 0.8 1. ]]\n"
     ]
    }
   ],
   "source": [
    "E = (A - A.min(1).reshape(4,1))/(A.max(1).reshape(4,1)-A.min(1).reshape(4,1))\n",
    "print(E)"
   ]
  },
  {
   "cell_type": "markdown",
   "metadata": {
    "colab_type": "text",
    "id": "XHLmfzVreDle"
   },
   "source": [
    "## Fatiamento em arrays (slicing)"
   ]
  },
  {
   "cell_type": "code",
   "execution_count": 81,
   "metadata": {
    "ExecuteTime": {
     "end_time": "2019-12-10T17:56:40.424712Z",
     "start_time": "2019-12-10T17:56:40.417272Z"
    },
    "colab": {},
    "colab_type": "code",
    "id": "Xz471g10eDlf"
   },
   "outputs": [
    {
     "name": "stdout",
     "output_type": "stream",
     "text": [
      "[[ 1  3  5]\n",
      " [ 7  9 11]\n",
      " [13 15 17]\n",
      " [19 21 23]]\n"
     ]
    }
   ],
   "source": [
    "# esta indexação é chamada fatiamento:\n",
    "AA = A[:,1::2]\n",
    "print(AA)"
   ]
  },
  {
   "cell_type": "markdown",
   "metadata": {
    "colab_type": "text",
    "id": "oly_fD5RWNFZ"
   },
   "source": [
    "### Exercício: Crie a matriz AB apenas com as linhas pares da matriz A, utilizando o conceito de fatiamento:\n"
   ]
  },
  {
   "cell_type": "code",
   "execution_count": 84,
   "metadata": {
    "ExecuteTime": {
     "end_time": "2019-12-10T17:56:40.437872Z",
     "start_time": "2019-12-10T17:56:40.428183Z"
    },
    "colab": {},
    "colab_type": "code",
    "id": "eg3zLgR9eDlh"
   },
   "outputs": [
    {
     "name": "stdout",
     "output_type": "stream",
     "text": [
      "[[ 0  1  2  3  4  5]\n",
      " [12 13 14 15 16 17]]\n"
     ]
    }
   ],
   "source": [
    "AB = A[::2,:]\n",
    "print(AB)"
   ]
  },
  {
   "cell_type": "markdown",
   "metadata": {
    "colab_type": "text",
    "id": "BDqYq2ymWRWq"
   },
   "source": [
    "### Exercicío: Crie a matriz AC com mesmo shape da matriz A, porém com os elementos na ordem inversa, ou seja, trocando a ordem das linhas e das colunas.\n",
    "\n"
   ]
  },
  {
   "cell_type": "markdown",
   "metadata": {
    "colab_type": "text",
    "id": "EeIDr_RydZU0"
   },
   "source": [
    "Por exemplo, a matriz [[1, 2, 3], [4, 5, 6]] será transformada para [[6, 5, 4], [3, 2, 1]]"
   ]
  },
  {
   "cell_type": "code",
   "execution_count": 88,
   "metadata": {
    "ExecuteTime": {
     "end_time": "2019-12-10T17:56:40.447762Z",
     "start_time": "2019-12-10T17:56:40.440731Z"
    },
    "colab": {},
    "colab_type": "code",
    "id": "YiHkUweVeDlk"
   },
   "outputs": [
    {
     "name": "stdout",
     "output_type": "stream",
     "text": [
      "[[23 22 21 20 19 18]\n",
      " [17 16 15 14 13 12]\n",
      " [11 10  9  8  7  6]\n",
      " [ 5  4  3  2  1  0]]\n"
     ]
    }
   ],
   "source": [
    "AC = np.flip(np.flip(A,0),1)\n",
    "print(AC)"
   ]
  },
  {
   "cell_type": "markdown",
   "metadata": {
    "colab_type": "text",
    "id": "Ltb2QihyeDlm"
   },
   "source": [
    "## Produto matricial  (dot product)"
   ]
  },
  {
   "cell_type": "markdown",
   "metadata": {
    "colab_type": "text",
    "id": "P916bdpneDln"
   },
   "source": [
    "### Exercício: Calcule a matriz E dada pelo produto matricial entre a matriz A e sua transposta: \n",
    "$$ E = A A^T $$"
   ]
  },
  {
   "cell_type": "code",
   "execution_count": 93,
   "metadata": {
    "ExecuteTime": {
     "end_time": "2019-12-10T17:56:40.457617Z",
     "start_time": "2019-12-10T17:56:40.450430Z"
    },
    "colab": {},
    "colab_type": "code",
    "id": "hOjk80hceDln"
   },
   "outputs": [
    {
     "name": "stdout",
     "output_type": "stream",
     "text": [
      "[[  55  145  235  325]\n",
      " [ 145  451  757 1063]\n",
      " [ 235  757 1279 1801]\n",
      " [ 325 1063 1801 2539]]\n"
     ]
    }
   ],
   "source": [
    "E = A.dot(A.T)\n",
    "print(E)"
   ]
  },
  {
   "cell_type": "markdown",
   "metadata": {
    "colab_type": "text",
    "id": "nbYr1dVcd7Rl"
   },
   "source": [
    "### Exercício: Descomente a linha e explique por que a operação de multiplicação dá erro."
   ]
  },
  {
   "cell_type": "code",
   "execution_count": 97,
   "metadata": {
    "ExecuteTime": {
     "end_time": "2019-12-10T17:56:40.465257Z",
     "start_time": "2019-12-10T17:56:40.460810Z"
    },
    "colab": {},
    "colab_type": "code",
    "id": "LkAbXPsYeDlt"
   },
   "outputs": [
    {
     "ename": "ValueError",
     "evalue": "operands could not be broadcast together with shapes (4,6) (6,4) ",
     "output_type": "error",
     "traceback": [
      "\u001b[1;31m---------------------------------------------------------------------------\u001b[0m",
      "\u001b[1;31mValueError\u001b[0m                                Traceback (most recent call last)",
      "\u001b[1;32m<ipython-input-97-c89a187ae8a7>\u001b[0m in \u001b[0;36m<module>\u001b[1;34m\u001b[0m\n\u001b[1;32m----> 1\u001b[1;33m \u001b[0mEe\u001b[0m \u001b[1;33m=\u001b[0m \u001b[0mA\u001b[0m \u001b[1;33m*\u001b[0m \u001b[0mA\u001b[0m\u001b[1;33m.\u001b[0m\u001b[0mT\u001b[0m\u001b[1;33m\u001b[0m\u001b[1;33m\u001b[0m\u001b[0m\n\u001b[0m",
      "\u001b[1;31mValueError\u001b[0m: operands could not be broadcast together with shapes (4,6) (6,4) "
     ]
    }
   ],
   "source": [
    "Ee = A * A.T"
   ]
  },
  {
   "cell_type": "markdown",
   "metadata": {},
   "source": [
    "O erro ocorre pois essa operação é uma multiplicação regular, não matricial, e, sendo assim, o numpy não consegue processar o broadcast com dimensões conflitantes."
   ]
  },
  {
   "cell_type": "markdown",
   "metadata": {
    "colab_type": "text",
    "id": "ZWB_BBggeDlz"
   },
   "source": [
    "## Matrizes multidimensionais"
   ]
  },
  {
   "cell_type": "markdown",
   "metadata": {
    "ExecuteTime": {
     "end_time": "2017-08-27T11:37:19.062565",
     "start_time": "2017-08-27T11:37:18.994081"
    },
    "colab_type": "text",
    "id": "KpWXWxokeDl0"
   },
   "source": [
    "Em deep learning, iremos utilizar matrizes multidimensionais\n",
    "que são denominados como arrays no NumPy. PyTorch usa o nome de tensor para\n",
    "suas matrizes multimensionais.\n",
    "\n",
    "Matrizes de dimensões maior que 4 são de difícil intuição. A melhor forma de lidar\n",
    "com elas é observando o seu *shape*."
   ]
  },
  {
   "cell_type": "markdown",
   "metadata": {
    "colab_type": "text",
    "id": "49yeX7UpeDl1"
   },
   "source": [
    "### 3-D array"
   ]
  },
  {
   "cell_type": "code",
   "execution_count": 109,
   "metadata": {
    "ExecuteTime": {
     "end_time": "2019-12-10T17:56:40.474112Z",
     "start_time": "2019-12-10T17:56:40.468455Z"
    },
    "colab": {},
    "colab_type": "code",
    "id": "BHyCf2wNeDl1"
   },
   "outputs": [
    {
     "name": "stdout",
     "output_type": "stream",
     "text": [
      "[[[ 0  1  2  3]\n",
      "  [ 4  5  6  7]\n",
      "  [ 8  9 10 11]]\n",
      "\n",
      " [[12 13 14 15]\n",
      "  [16 17 18 19]\n",
      "  [20 21 22 23]]]\n"
     ]
    },
    {
     "data": {
      "text/plain": [
       "2"
      ]
     },
     "execution_count": 109,
     "metadata": {},
     "output_type": "execute_result"
    }
   ],
   "source": [
    "F = A.reshape(2, 3, 4)\n",
    "print(F)\n",
    "F[0].ndim"
   ]
  },
  {
   "cell_type": "markdown",
   "metadata": {
    "colab_type": "text",
    "id": "7J5n1UiheDl5"
   },
   "source": [
    "#### Indexação"
   ]
  },
  {
   "cell_type": "markdown",
   "metadata": {
    "colab_type": "text",
    "id": "4p5U7YBZeDl6"
   },
   "source": [
    "Estude as seguintes indexações:"
   ]
  },
  {
   "cell_type": "code",
   "execution_count": 102,
   "metadata": {
    "ExecuteTime": {
     "end_time": "2019-12-10T17:56:52.815469Z",
     "start_time": "2019-12-10T17:56:52.810002Z"
    },
    "colab": {},
    "colab_type": "code",
    "id": "gFEXDgk-eDl6"
   },
   "outputs": [
    {
     "name": "stdout",
     "output_type": "stream",
     "text": [
      "[[ 0  1  2  3]\n",
      " [ 4  5  6  7]\n",
      " [ 8  9 10 11]]\n",
      "[12 13 14 15]\n",
      "14\n",
      "[14]\n"
     ]
    }
   ],
   "source": [
    "F1 = F[0]\n",
    "print(F1)\n",
    "F2 = F[1,0,:]\n",
    "print(F2)\n",
    "F3 = F[1,0,2]\n",
    "print(F3)\n",
    "F4 = F[1:2,0,2]\n",
    "print(F4)"
   ]
  },
  {
   "cell_type": "code",
   "execution_count": 100,
   "metadata": {
    "ExecuteTime": {
     "end_time": "2019-12-10T17:56:54.900989Z",
     "start_time": "2019-12-10T17:56:54.885810Z"
    },
    "colab": {},
    "colab_type": "code",
    "id": "fG3IzVF8eDl9"
   },
   "outputs": [
    {
     "name": "stdout",
     "output_type": "stream",
     "text": [
      "(3, 4)\n",
      "(4,)\n",
      "()\n",
      "(1,)\n"
     ]
    }
   ],
   "source": [
    "print(F1.shape)\n",
    "print(F2.shape)\n",
    "print(F3.shape)\n",
    "print(F4.shape)"
   ]
  },
  {
   "cell_type": "markdown",
   "metadata": {
    "ExecuteTime": {
     "end_time": "2017-11-24T10:48:34.642626",
     "start_time": "2017-11-24T10:48:34.638891"
    },
    "colab_type": "text",
    "id": "G6lt3BgVeDmA"
   },
   "source": [
    "### Exercício: Explique as dimensões de cada array:\n",
    "\n",
    "F1: corresponde a matriz bidimiensional na posicção 1 do eixo espacial z, ou seja as coordenadas do plano x,y, para z = 1, ou seja, bidimensão (3, 4).\n",
    "\n",
    "F2: corresponde a linha 0 da matriz F1, ou seja, dimensão 1.\n",
    "\n",
    "F3: corresponde ao terceiro elemento da linha F2, ou seja, dimensão 0.\n",
    "\n",
    "F4:"
   ]
  },
  {
   "cell_type": "markdown",
   "metadata": {
    "colab_type": "text",
    "id": "rtxCGlQKeDmA"
   },
   "source": [
    "## Redução de eixo - aplicado a dois eixos simultâneos"
   ]
  },
  {
   "cell_type": "markdown",
   "metadata": {
    "colab_type": "text",
    "id": "tJKWJmLWeDmB"
   },
   "source": [
    "Redução de eixo é quando a operação matricial resulta num array de menores dimensões.\n",
    "Com essas operações, calcula-se estatística de colunas, linhas, etc."
   ]
  },
  {
   "cell_type": "markdown",
   "metadata": {
    "ExecuteTime": {
     "end_time": "2017-11-24T10:48:34.647517",
     "start_time": "2017-11-24T10:48:34.644317"
    },
    "colab_type": "text",
    "id": "pRur77ojeDmB"
   },
   "source": [
    "### Exercício: Calcule o valor médio das matrizes F[0] e F[1], usando apenas um único comando F.mean(??)"
   ]
  },
  {
   "cell_type": "code",
   "execution_count": 117,
   "metadata": {
    "ExecuteTime": {
     "end_time": "2017-11-24T10:48:34.647517",
     "start_time": "2017-11-24T10:48:34.644317"
    },
    "colab": {},
    "colab_type": "code",
    "id": "P2xNCCSYeDmC"
   },
   "outputs": [
    {
     "name": "stdout",
     "output_type": "stream",
     "text": [
      "[ 5.5 17.5]\n"
     ]
    }
   ],
   "source": [
    "print(F.mean((1,2)))"
   ]
  },
  {
   "cell_type": "markdown",
   "metadata": {
    "colab_type": "text",
    "id": "6v0cIIXWeDmF"
   },
   "source": [
    "## Function - split - dados treino e validação"
   ]
  },
  {
   "cell_type": "markdown",
   "metadata": {
    "colab_type": "text",
    "id": "5dSASYjheDmF"
   },
   "source": [
    "O exercício a seguir é para separar um conjunto de dados (dataset) em dois conjuntos, um\n",
    "de treinamento e outro de validação.\n",
    "\n",
    "\n",
    "Defina uma função que receba como entrada uma matriz, (dataset), onde cada linha é\n",
    "referente a uma amostra e cada coluna referente a um atributo das amostras. O número total de\n",
    "amostras é dado pelas linhas desta matriz.\n",
    "Outro parâmetro de entrada é o fator de split `split_factor`, que é um número real entre 0 e 1. \n",
    "A saída da função são duas matrizes: amostras de treinamento e amostras de validação. \n",
    "A matriz de treinamento contrá o número de linhas dado por `split_factor` vezes o número de amostras.\n",
    "A matriz de validação conterá o restante das amostras."
   ]
  },
  {
   "cell_type": "code",
   "execution_count": 118,
   "metadata": {
    "ExecuteTime": {
     "end_time": "2017-11-24T10:48:34.659465",
     "start_time": "2017-11-24T10:48:34.654983"
    },
    "colab": {},
    "colab_type": "code",
    "id": "LyOrpLLdeDmG"
   },
   "outputs": [
    {
     "name": "stdout",
     "output_type": "stream",
     "text": [
      "[[ 0  1  2  3  4  5  6  7  8]\n",
      " [ 9 10 11 12 13 14 15 16 17]\n",
      " [18 19 20 21 22 23 24 25 26]\n",
      " [27 28 29 30 31 32 33 34 35]\n",
      " [36 37 38 39 40 41 42 43 44]\n",
      " [45 46 47 48 49 50 51 52 53]\n",
      " [54 55 56 57 58 59 60 61 62]\n",
      " [63 64 65 66 67 68 69 70 71]\n",
      " [72 73 74 75 76 77 78 79 80]\n",
      " [81 82 83 84 85 86 87 88 89]]\n"
     ]
    }
   ],
   "source": [
    "# Entrada, matriz contendo 10 amostras e 9 atributos\n",
    "aa = np.arange(90).reshape(10,9)\n",
    "print(aa)"
   ]
  },
  {
   "cell_type": "code",
   "execution_count": 119,
   "metadata": {
    "ExecuteTime": {
     "end_time": "2017-11-24T10:48:34.665589",
     "start_time": "2017-11-24T10:48:34.661245"
    },
    "colab": {},
    "colab_type": "code",
    "id": "4u4ZWVsEeDmI"
   },
   "outputs": [
    {
     "name": "stdout",
     "output_type": "stream",
     "text": [
      "[[ 0  1  2  3  4  5  6  7  8]\n",
      " [ 9 10 11 12 13 14 15 16 17]\n",
      " [18 19 20 21 22 23 24 25 26]\n",
      " [27 28 29 30 31 32 33 34 35]\n",
      " [36 37 38 39 40 41 42 43 44]\n",
      " [45 46 47 48 49 50 51 52 53]\n",
      " [54 55 56 57 58 59 60 61 62]\n",
      " [63 64 65 66 67 68 69 70 71]]\n"
     ]
    }
   ],
   "source": [
    "# Saída da função t,v = split(aa, 0.8)  # utilizado split_factor de 80%\n",
    "t = np.arange(72).reshape(8,9)\n",
    "print(t)"
   ]
  },
  {
   "cell_type": "code",
   "execution_count": 120,
   "metadata": {
    "ExecuteTime": {
     "end_time": "2017-11-24T10:48:34.671172",
     "start_time": "2017-11-24T10:48:34.667187"
    },
    "colab": {},
    "colab_type": "code",
    "id": "XyGauOiseDmK"
   },
   "outputs": [
    {
     "name": "stdout",
     "output_type": "stream",
     "text": [
      "[[72 73 74 75 76 77 78 79 80]\n",
      " [81 82 83 84 85 86 87 88 89]]\n"
     ]
    }
   ],
   "source": [
    "v = np.arange(72,90).reshape(2,9)\n",
    "print(v)"
   ]
  },
  {
   "cell_type": "code",
   "execution_count": 129,
   "metadata": {
    "ExecuteTime": {
     "end_time": "2017-11-24T10:48:34.679672",
     "start_time": "2017-11-24T10:48:34.672840"
    },
    "colab": {},
    "colab_type": "code",
    "id": "hV4qwjYgeDmO"
   },
   "outputs": [
    {
     "name": "stdout",
     "output_type": "stream",
     "text": [
      "t=\n",
      " [[ 0  1  2  3  4  5  6  7  8]\n",
      " [ 9 10 11 12 13 14 15 16 17]\n",
      " [18 19 20 21 22 23 24 25 26]\n",
      " [27 28 29 30 31 32 33 34 35]\n",
      " [36 37 38 39 40 41 42 43 44]\n",
      " [45 46 47 48 49 50 51 52 53]\n",
      " [54 55 56 57 58 59 60 61 62]\n",
      " [63 64 65 66 67 68 69 70 71]]\n",
      "v=\n",
      " [[72 73 74 75 76 77 78 79 80]\n",
      " [81 82 83 84 85 86 87 88 89]]\n"
     ]
    }
   ],
   "source": [
    "# Evite o uso de laço explícito\n",
    "# Não utilize outras bibliotecas além do NumPy\n",
    "def split(dados, split_factor):\n",
    "    '''\n",
    "    divide a matriz dados em dois conjuntos:\n",
    "    matriz train: split_factor * n. de linhas de dados\n",
    "    matriz val: (1-split_factor) * n. de linhas de dados\n",
    "    parametros entrada:\n",
    "        dados: matriz de entrada\n",
    "        split_factor: entre 0. e 1. - fator de divisão em duas matrizes\n",
    "    parametros de saída:\n",
    "        train : matriz com as linhas iniciais de dados\n",
    "        val: matriz com as linhas restantes\n",
    "    '''\n",
    "    # insert your code here\n",
    "    nlines = dados.shape[0]\n",
    "    rows_t = int(split_factor*nlines)\n",
    "    train, val  = dados[:rows_t,:],dados[rows_t:nlines,:]\n",
    "    return train, val\n",
    "\n",
    "t,v = split(aa, 0.8)\n",
    "print('t=\\n', t)\n",
    "print('v=\\n', v)"
   ]
  },
  {
   "cell_type": "markdown",
   "metadata": {
    "ExecuteTime": {
     "end_time": "2017-11-24T10:48:34.684472",
     "start_time": "2017-11-24T10:48:34.681557"
    },
    "colab_type": "text",
    "id": "78Cn6MnPeDmS"
   },
   "source": [
    "### Exercício: Teste sua função com outros valores"
   ]
  },
  {
   "cell_type": "code",
   "execution_count": 137,
   "metadata": {
    "colab": {},
    "colab_type": "code",
    "id": "v-eQP6oHeDmT"
   },
   "outputs": [
    {
     "name": "stdout",
     "output_type": "stream",
     "text": [
      "t=\n",
      " [[10 11 12 13 14 15]\n",
      " [16 17 18 19 20 21]\n",
      " [22 23 24 25 26 27]]\n",
      "v=\n",
      " [[28 29 30 31 32 33]]\n"
     ]
    }
   ],
   "source": [
    "t,v = split(B, 0.75)\n",
    "print('t=\\n', t)\n",
    "print('v=\\n', v)"
   ]
  },
  {
   "cell_type": "markdown",
   "metadata": {
    "colab_type": "text",
    "id": "g113cvI5Sq2k"
   },
   "source": [
    "# Fim do Notebook"
   ]
  }
 ],
 "metadata": {
  "colab": {
   "collapsed_sections": [
    "ansV5TGMeDlA",
    "G6lt3BgVeDmA"
   ],
   "name": "Exercicios de Numpy.ipynb",
   "provenance": [],
   "toc_visible": true
  },
  "kernelspec": {
   "display_name": "Python 3",
   "language": "python",
   "name": "python3"
  },
  "language_info": {
   "codemirror_mode": {
    "name": "ipython",
    "version": 3
   },
   "file_extension": ".py",
   "mimetype": "text/x-python",
   "name": "python",
   "nbconvert_exporter": "python",
   "pygments_lexer": "ipython3",
   "version": "3.8.1"
  },
  "toc": {
   "base_numbering": 1,
   "nav_menu": {
    "height": "354px",
    "width": "252px"
   },
   "number_sections": true,
   "sideBar": true,
   "skip_h1_title": false,
   "title_cell": "Table of Contents",
   "title_sidebar": "Contents",
   "toc_cell": false,
   "toc_position": {},
   "toc_section_display": "block",
   "toc_window_display": false
  },
  "varInspector": {
   "cols": {
    "lenName": 16,
    "lenType": 16,
    "lenVar": 40
   },
   "kernels_config": {
    "python": {
     "delete_cmd_postfix": "",
     "delete_cmd_prefix": "del ",
     "library": "var_list.py",
     "varRefreshCmd": "print(var_dic_list())"
    },
    "r": {
     "delete_cmd_postfix": ") ",
     "delete_cmd_prefix": "rm(",
     "library": "var_list.r",
     "varRefreshCmd": "cat(var_dic_list()) "
    }
   },
   "types_to_exclude": [
    "module",
    "function",
    "builtin_function_or_method",
    "instance",
    "_Feature"
   ],
   "window_display": false
  }
 },
 "nbformat": 4,
 "nbformat_minor": 2
}
