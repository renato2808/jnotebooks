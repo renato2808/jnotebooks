{
 "cells": [
  {
   "cell_type": "markdown",
   "metadata": {
    "colab_type": "text",
    "id": "NUsqYALqeDij"
   },
   "source": [
    "# Curso Deep Learning - Exercícios Python Avançado"
   ]
  },
  {
   "cell_type": "markdown",
   "metadata": {
    "colab_type": "text",
    "id": "dCImmucreDil"
   },
   "source": [
    "Este é um notebook Jupyter contendo exercícios de programação Python Avançado utilizando programação orientada a objetos e iteradores.\n",
    "\n",
    "Esta lista de exercício é um guia de estudo. Para fazer os exercícios será necessário estudar o Python e consultar documentação e tutoriais disponíveis na Internet."
   ]
  },
  {
   "cell_type": "markdown",
   "metadata": {
    "colab_type": "text",
    "id": "KFYP4jUPeDil"
   },
   "source": [
    "### Python"
   ]
  },
  {
   "cell_type": "markdown",
   "metadata": {
    "colab_type": "text",
    "id": "m4y_0BiqeDim"
   },
   "source": [
    "Estes exercícios devem ser feitos com o Python 3.\n",
    "Recomenda-se utilizar o Google Colab para fazer esses exercícios (https://colab.research.google.com/)."
   ]
  },
  {
   "cell_type": "markdown",
   "metadata": {
    "colab_type": "text",
    "id": "61BDrHC2eDin"
   },
   "source": [
    "### Jupyter notebook"
   ]
  },
  {
   "cell_type": "markdown",
   "metadata": {
    "colab_type": "text",
    "id": "Yc340OOqeDio"
   },
   "source": [
    "Este é um Notebook Jupyter. Um notebook Jupyter é uma mistura de linguagem Markdown para formatar texto (como uma Wiki) e um programa Python. É muito usado entre as pessoas que trabalham com Data Science e Machine Learning em Python.\n",
    "\n",
    "Se utilizar o Jupyter notebook, instale o Jupyter nbextensions que é um conjunto de ferramentas auxiliares. Habilite o \"Table of Contents\" do nbextensions para que este notebook fique itemizado. Para o Google Colab, não é possível instalar o nbextensions."
   ]
  },
  {
   "cell_type": "markdown",
   "metadata": {
    "colab_type": "text",
    "id": "qQduOjP1eDip"
   },
   "source": [
    "Você pode adicionar quantas células quiser neste notebook para deixar suas respostas bem organizadas."
   ]
  },
  {
   "cell_type": "markdown",
   "metadata": {
    "colab_type": "text",
    "id": "y7PzyzOUeDkB"
   },
   "source": [
    "Os seguintes exercícios devem usar apenas o pacote Python e NumPy.\n",
    "Não se deve utilizar nenhum outro pacote adicional.\n"
   ]
  },
  {
   "cell_type": "markdown",
   "metadata": {
    "colab_type": "text",
    "id": "69RtbO1OUjyI"
   },
   "source": [
    "## Escreva seu nome"
   ]
  },
  {
   "cell_type": "code",
   "execution_count": 1,
   "metadata": {
    "colab": {},
    "colab_type": "code",
    "id": "aCylLf7TUnX3"
   },
   "outputs": [
    {
     "name": "stdout",
     "output_type": "stream",
     "text": [
      "Meu nome é: Renato César Alves de Oliveira\n"
     ]
    }
   ],
   "source": [
    "print('Meu nome é: Renato César Alves de Oliveira')"
   ]
  },
  {
   "cell_type": "code",
   "execution_count": 2,
   "metadata": {
    "ExecuteTime": {
     "end_time": "2019-12-10T17:56:40.132948Z",
     "start_time": "2019-12-10T17:56:39.750654Z"
    },
    "colab": {},
    "colab_type": "code",
    "id": "E3GfnJKZeDkC"
   },
   "outputs": [],
   "source": [
    "import numpy as np"
   ]
  },
  {
   "cell_type": "markdown",
   "metadata": {
    "colab_type": "text",
    "id": "ZDj4_-E4eDmW"
   },
   "source": [
    "# Programação Orientada a Objetos"
   ]
  },
  {
   "cell_type": "markdown",
   "metadata": {
    "colab_type": "text",
    "id": "9iSjwvjXeDmW"
   },
   "source": [
    "Documentação oficial: https://docs.python.org/3/tutorial/classes.html\n",
    "\n",
    "Forma clássica de definição de uma função:"
   ]
  },
  {
   "cell_type": "code",
   "execution_count": 3,
   "metadata": {
    "ExecuteTime": {
     "end_time": "2017-11-24T10:48:34.691958",
     "start_time": "2017-11-24T10:48:34.686202"
    },
    "colab": {},
    "colab_type": "code",
    "id": "fBsUwWbAeDmX"
   },
   "outputs": [
    {
     "data": {
      "text/plain": [
       "92.83333333333333"
      ]
     },
     "execution_count": 3,
     "metadata": {},
     "output_type": "execute_result"
    }
   ],
   "source": [
    "data = np.array([13, 63, 5, 378, 58, 40])\n",
    "\n",
    "def avg(d):\n",
    "    return sum(d)/len(d)\n",
    "    \n",
    "avg(data)"
   ]
  },
  {
   "cell_type": "markdown",
   "metadata": {
    "colab_type": "text",
    "id": "13iDjTFGeDmZ"
   },
   "source": [
    "## Definição da classe, variáveis, inicialização e método"
   ]
  },
  {
   "cell_type": "markdown",
   "metadata": {
    "colab_type": "text",
    "id": "d_P6GN9DeDma"
   },
   "source": [
    "Definição da classe `MyAvg`, contendo duas variávels: `id` (compartilhada) e `d`. A classe possui os métodos de inicialização (`__init__`) e `avg`.\n",
    "\n",
    "- **Classe** é uma forma de definir um tipo abstrato de dados\n",
    "- **Instância** de uma classe é chamada **objeto**\n",
    "- Operadores ou funções de uma classe são chamados **métodos**\n",
    "- **Variáveis de instância** são variáveis associadas à instância\n",
    "- **Variáveis de classe** são variáveis compartilhada com todas as instâncias da classe\n",
    "\n",
    "O nome de uma classe é usualmente escrita usando *Camel case* enquanto que métodos são\n",
    "escritos com caixa baixa."
   ]
  },
  {
   "cell_type": "code",
   "execution_count": 4,
   "metadata": {
    "ExecuteTime": {
     "end_time": "2017-11-24T10:48:34.698207",
     "start_time": "2017-11-24T10:48:34.693790"
    },
    "colab": {},
    "colab_type": "code",
    "id": "wN7jqMJqeDma"
   },
   "outputs": [],
   "source": [
    "class MyAvg:\n",
    "    id = 0.33                # variável compartilhada com todas as instâncias\n",
    "    \n",
    "    def __init__(self,data):\n",
    "        self.d = data        # variável associada a cada instância \n",
    "        \n",
    "    def avg(self): # método para calcular a média\n",
    "        return sum(self.d) / len(self.d)"
   ]
  },
  {
   "cell_type": "markdown",
   "metadata": {
    "ExecuteTime": {
     "end_time": "2017-09-28T22:37:21.312216Z",
     "start_time": "2017-09-28T22:37:21.306739Z"
    },
    "colab_type": "text",
    "id": "SwJ5XolkeDmc"
   },
   "source": [
    "Objetos `a` e `b` são instâncias da classe `MyAvg`.\n",
    "Instanciar uma classe é inicializá-la através da chamada ao método __init__:"
   ]
  },
  {
   "cell_type": "code",
   "execution_count": 5,
   "metadata": {
    "ExecuteTime": {
     "end_time": "2017-11-24T10:48:34.702739",
     "start_time": "2017-11-24T10:48:34.699932"
    },
    "colab": {},
    "colab_type": "code",
    "id": "yxU5PJ6eeDmd"
   },
   "outputs": [],
   "source": [
    "a = MyAvg(data)\n",
    "b = MyAvg(2 * data)"
   ]
  },
  {
   "cell_type": "markdown",
   "metadata": {
    "colab_type": "text",
    "id": "THMVRSwEeDmf"
   },
   "source": [
    "Aplicação do método `avg()`, retorna a média dos dados dos objetos a e b:"
   ]
  },
  {
   "cell_type": "code",
   "execution_count": 6,
   "metadata": {
    "ExecuteTime": {
     "end_time": "2017-11-24T10:48:34.708357",
     "start_time": "2017-11-24T10:48:34.704485"
    },
    "colab": {},
    "colab_type": "code",
    "id": "EqM932nReDmg"
   },
   "outputs": [
    {
     "name": "stdout",
     "output_type": "stream",
     "text": [
      "92.83333333333333\n",
      "185.66666666666666\n"
     ]
    }
   ],
   "source": [
    "print(a.avg())\n",
    "print(b.avg())"
   ]
  },
  {
   "cell_type": "code",
   "execution_count": 7,
   "metadata": {
    "ExecuteTime": {
     "end_time": "2017-11-24T10:48:34.713753",
     "start_time": "2017-11-24T10:48:34.710083"
    },
    "colab": {},
    "colab_type": "code",
    "id": "BxVSNjRGeDmi"
   },
   "outputs": [
    {
     "name": "stdout",
     "output_type": "stream",
     "text": [
      "[ 13  63   5 378  58  40]\n",
      "[ 26 126  10 756 116  80]\n"
     ]
    }
   ],
   "source": [
    "# Imprima os valores dos dados associados aos objetos a e b:\n",
    "print(a.d)\n",
    "print(b.d)"
   ]
  },
  {
   "cell_type": "code",
   "execution_count": 8,
   "metadata": {
    "ExecuteTime": {
     "end_time": "2017-11-24T10:48:34.719368",
     "start_time": "2017-11-24T10:48:34.715338"
    },
    "colab": {},
    "colab_type": "code",
    "id": "nDoAC0cceDmk"
   },
   "outputs": [
    {
     "name": "stdout",
     "output_type": "stream",
     "text": [
      "0.33\n",
      "0.33\n"
     ]
    }
   ],
   "source": [
    "# Imprima a variável compartilhada `id` de cada objeto a e b:\n",
    "print(a.id)\n",
    "print(b.id)"
   ]
  },
  {
   "cell_type": "markdown",
   "metadata": {
    "colab_type": "text",
    "id": "w7xjqOkoeDmp"
   },
   "source": [
    "## Herança de classe"
   ]
  },
  {
   "cell_type": "code",
   "execution_count": 9,
   "metadata": {
    "ExecuteTime": {
     "end_time": "2017-11-24T10:48:34.724905",
     "start_time": "2017-11-24T10:48:34.721122"
    },
    "colab": {},
    "colab_type": "code",
    "id": "jdTU51ureDmp"
   },
   "outputs": [],
   "source": [
    "class MyAvgStd(MyAvg):\n",
    "    def var(self): # método adicional para calcular a variância\n",
    "        u = self.avg()\n",
    "        return np.sqrt(np.sum((self.d - u)**2) / len(self.d))"
   ]
  },
  {
   "cell_type": "code",
   "execution_count": 10,
   "metadata": {
    "ExecuteTime": {
     "end_time": "2017-11-24T10:48:34.729387",
     "start_time": "2017-11-24T10:48:34.726655"
    },
    "colab": {},
    "colab_type": "code",
    "id": "bJJfZIHTeDmr"
   },
   "outputs": [],
   "source": [
    "c = MyAvgStd(data)"
   ]
  },
  {
   "cell_type": "code",
   "execution_count": 11,
   "metadata": {
    "ExecuteTime": {
     "end_time": "2017-11-24T10:48:34.735547",
     "start_time": "2017-11-24T10:48:34.731136"
    },
    "colab": {},
    "colab_type": "code",
    "id": "Befh0tMneDm1"
   },
   "outputs": [
    {
     "name": "stdout",
     "output_type": "stream",
     "text": [
      "media: 92.83333333333333\n",
      "variancia: 129.294775180163\n"
     ]
    }
   ],
   "source": [
    "print('media:', c.avg())\n",
    "print('variancia:', c.var())"
   ]
  },
  {
   "cell_type": "code",
   "execution_count": 12,
   "metadata": {
    "ExecuteTime": {
     "end_time": "2017-11-24T10:48:34.739611",
     "start_time": "2017-11-24T10:48:34.737200"
    },
    "colab": {},
    "colab_type": "code",
    "id": "Rm9z-qcfeDm4"
   },
   "outputs": [
    {
     "name": "stdout",
     "output_type": "stream",
     "text": [
      "[ 13  63   5 378  58  40]\n",
      "0.33\n"
     ]
    }
   ],
   "source": [
    "# imprima os dados associados ao objeto c e a sua variável compartilhada id\n",
    "print(c.d)\n",
    "print(c.id)"
   ]
  },
  {
   "cell_type": "markdown",
   "metadata": {
    "colab_type": "text",
    "id": "CIIXBziCeDm6"
   },
   "source": [
    "### Exercício: convertendo a função `split` na classe `C_Split`"
   ]
  },
  {
   "cell_type": "markdown",
   "metadata": {
    "colab_type": "text",
    "id": "4CKNeNnWeDm7"
   },
   "source": [
    "Implemente a classe `C_Split` para ter a mesma funcionalidade da função `split` feita no notebook de estudo de NumPy"
   ]
  },
  {
   "cell_type": "code",
   "execution_count": 40,
   "metadata": {
    "ExecuteTime": {
     "end_time": "2017-11-24T10:48:34.744816",
     "start_time": "2017-11-24T10:48:34.741384"
    },
    "colab": {},
    "colab_type": "code",
    "id": "mbFyWX-ueDm7"
   },
   "outputs": [],
   "source": [
    "class C_Split():\n",
    "    def __init__(self,d):\n",
    "        self.d = d\n",
    "    def split(self, split_factor):\n",
    "        nlines = self.d.shape[0]\n",
    "        rows_t = int(split_factor*nlines)\n",
    "        train, val  = self.d[:rows_t,:],self.d[rows_t:nlines,:]\n",
    "        return train, val"
   ]
  },
  {
   "cell_type": "code",
   "execution_count": 41,
   "metadata": {
    "ExecuteTime": {
     "end_time": "2017-11-24T10:48:34.749098",
     "start_time": "2017-11-24T10:48:34.746587"
    },
    "colab": {},
    "colab_type": "code",
    "id": "QMynPis-eDm9"
   },
   "outputs": [
    {
     "name": "stdout",
     "output_type": "stream",
     "text": [
      "t=\n",
      " [[ 0  1  2  3  4  5  6  7  8]\n",
      " [ 9 10 11 12 13 14 15 16 17]\n",
      " [18 19 20 21 22 23 24 25 26]\n",
      " [27 28 29 30 31 32 33 34 35]\n",
      " [36 37 38 39 40 41 42 43 44]\n",
      " [45 46 47 48 49 50 51 52 53]\n",
      " [54 55 56 57 58 59 60 61 62]\n",
      " [63 64 65 66 67 68 69 70 71]]\n",
      "v=\n",
      " [[72 73 74 75 76 77 78 79 80]\n",
      " [81 82 83 84 85 86 87 88 89]]\n"
     ]
    }
   ],
   "source": [
    "# Entrada, matriz contendo 10 amostras e 9 atributos\n",
    "aa = np.arange(90).reshape(10,9)\n",
    "data_train_val = C_Split(aa)\n",
    "train, val = data_train_val.split(0.8)\n",
    "print('t=\\n', train)\n",
    "print('v=\\n', val)"
   ]
  },
  {
   "cell_type": "markdown",
   "metadata": {
    "colab_type": "text",
    "id": "-LpvGX0-eDm_"
   },
   "source": [
    "## Classe com métodos `__len__` e `__getitem__`"
   ]
  },
  {
   "cell_type": "markdown",
   "metadata": {
    "colab_type": "text",
    "id": "9hsO7GhVeDnA"
   },
   "source": [
    "Uma classe com métodos `__len__` e `__getitem__` permite que os objetos possam ser indexados e calculado o seu número de elementos.\n",
    "\n",
    "Veja o exemplo a seguir:"
   ]
  },
  {
   "cell_type": "code",
   "execution_count": 42,
   "metadata": {
    "ExecuteTime": {
     "end_time": "2017-11-24T10:48:34.755820",
     "start_time": "2017-11-24T10:48:34.750857"
    },
    "colab": {},
    "colab_type": "code",
    "id": "Wgy_eIPQeDnA"
   },
   "outputs": [],
   "source": [
    "class Word():\n",
    "    def __init__(self, phrase):\n",
    "        self.wordlist = phrase.split() # separa frase em uma lista de palavras\n",
    "    \n",
    "    def __len__(self):\n",
    "        return len(self.wordlist)\n",
    "    \n",
    "    def __getitem__(self, x):\n",
    "        return self.wordlist[x]"
   ]
  },
  {
   "cell_type": "code",
   "execution_count": 43,
   "metadata": {
    "ExecuteTime": {
     "end_time": "2017-11-24T10:48:34.760433",
     "start_time": "2017-11-24T10:48:34.757750"
    },
    "colab": {},
    "colab_type": "code",
    "id": "jpWIuM_NeDnC"
   },
   "outputs": [],
   "source": [
    "frase = 'Esta frase é formada por 7 palavras'\n",
    "palavras = Word(frase)"
   ]
  },
  {
   "cell_type": "code",
   "execution_count": 44,
   "metadata": {
    "ExecuteTime": {
     "end_time": "2017-11-24T10:48:34.766299",
     "start_time": "2017-11-24T10:48:34.762252"
    },
    "colab": {},
    "colab_type": "code",
    "id": "wAZFJiKjeDnG"
   },
   "outputs": [
    {
     "data": {
      "text/plain": [
       "'formada'"
      ]
     },
     "execution_count": 44,
     "metadata": {},
     "output_type": "execute_result"
    }
   ],
   "source": [
    "palavras[3]  # permite a indexação do objeto"
   ]
  },
  {
   "cell_type": "code",
   "execution_count": 45,
   "metadata": {
    "ExecuteTime": {
     "end_time": "2017-11-24T10:48:34.771384",
     "start_time": "2017-11-24T10:48:34.767972"
    },
    "colab": {},
    "colab_type": "code",
    "id": "N4o7SVgXeDnJ"
   },
   "outputs": [
    {
     "name": "stdout",
     "output_type": "stream",
     "text": [
      "7\n"
     ]
    }
   ],
   "source": [
    "print(len(palavras))"
   ]
  },
  {
   "cell_type": "markdown",
   "metadata": {
    "colab_type": "text",
    "id": "A0s0HmEveDnM"
   },
   "source": [
    "### Exercício para indexar elementos de um dicionário"
   ]
  },
  {
   "cell_type": "markdown",
   "metadata": {
    "colab_type": "text",
    "id": "MchgH8wyeDnN"
   },
   "source": [
    "Um dicionário em Python não é indexado. Por exemplo seja o dicionário `d` a seguir.\n",
    "Não é possível indexar d[0] ou d[1] para buscar o primeiro ou segundo par (chave:valor)."
   ]
  },
  {
   "cell_type": "code",
   "execution_count": 46,
   "metadata": {
    "ExecuteTime": {
     "end_time": "2017-11-24T10:48:34.775919",
     "start_time": "2017-11-24T10:48:34.773248"
    },
    "colab": {},
    "colab_type": "code",
    "id": "ZpY9qKW9eDnO"
   },
   "outputs": [],
   "source": [
    "d = {'a':1, 'b': 2}"
   ]
  },
  {
   "cell_type": "markdown",
   "metadata": {
    "colab_type": "text",
    "id": "zv_89YgAeDnR"
   },
   "source": [
    "Implementar uma classe que receba um dicionário e permita que ele possa ser indexado.\n",
    "Para converter um dicionário em uma lista de pares, use:"
   ]
  },
  {
   "cell_type": "code",
   "execution_count": 47,
   "metadata": {
    "ExecuteTime": {
     "end_time": "2017-11-24T10:48:34.781948",
     "start_time": "2017-11-24T10:48:34.777863"
    },
    "colab": {},
    "colab_type": "code",
    "id": "mCXqryogeDnR"
   },
   "outputs": [
    {
     "data": {
      "text/plain": [
       "[('a', 1), ('b', 2)]"
      ]
     },
     "execution_count": 47,
     "metadata": {},
     "output_type": "execute_result"
    }
   ],
   "source": [
    "list(d.items())"
   ]
  },
  {
   "cell_type": "markdown",
   "metadata": {
    "colab_type": "text",
    "id": "Py64B0lPeDnU"
   },
   "source": [
    "Complete a definição da classe `dicdata` a seguir para que um dicionário possa ser\n",
    "indexado:"
   ]
  },
  {
   "cell_type": "code",
   "execution_count": 50,
   "metadata": {
    "ExecuteTime": {
     "end_time": "2017-11-24T10:48:34.788040",
     "start_time": "2017-11-24T10:48:34.783585"
    },
    "colab": {},
    "colab_type": "code",
    "id": "ujOgm-GweDnU"
   },
   "outputs": [],
   "source": [
    "class DicData():\n",
    "    def __init__(self, dic):\n",
    "        self.dic = d\n",
    "        \n",
    "    def __len__(self):\n",
    "        return len(self.dic)\n",
    "        \n",
    "    def __getitem__(self, x):\n",
    "        return list(self.dic.items())[x]"
   ]
  },
  {
   "cell_type": "code",
   "execution_count": 52,
   "metadata": {
    "ExecuteTime": {
     "end_time": "2017-11-24T10:48:34.816082",
     "start_time": "2017-11-24T10:48:34.789694"
    },
    "colab": {},
    "colab_type": "code",
    "id": "lAk2dnRYeDnW"
   },
   "outputs": [
    {
     "name": "stdout",
     "output_type": "stream",
     "text": [
      "2\n",
      "('a', 1)\n"
     ]
    }
   ],
   "source": [
    "dd = DicData(d)\n",
    "print(len(dd))\n",
    "print(dd[0])"
   ]
  },
  {
   "cell_type": "markdown",
   "metadata": {
    "colab_type": "text",
    "id": "voNSHOt2eDnY"
   },
   "source": [
    "## Iteradores"
   ]
  },
  {
   "cell_type": "markdown",
   "metadata": {
    "colab_type": "text",
    "id": "mzrK8WMLeDnY"
   },
   "source": [
    "Iteradores são uteis para serem usados em estruturas do tipo `for a in b:`.\n",
    "\n",
    "Listas em Python são consideradas iteráveis, pois podem ser utilizadas nessa estrutura:"
   ]
  },
  {
   "cell_type": "code",
   "execution_count": 53,
   "metadata": {
    "ExecuteTime": {
     "end_time": "2017-11-24T10:48:34.821690",
     "start_time": "2017-11-24T10:48:34.817887"
    },
    "colab": {},
    "colab_type": "code",
    "id": "8LjRBBiZeDnY"
   },
   "outputs": [
    {
     "name": "stdout",
     "output_type": "stream",
     "text": [
      "a\n",
      "b\n",
      "c\n"
     ]
    }
   ],
   "source": [
    "for i in ['a', 'b', 'c']:\n",
    "    print(i)"
   ]
  },
  {
   "cell_type": "markdown",
   "metadata": {
    "colab_type": "text",
    "id": "4K5D6alneDna"
   },
   "source": [
    "O método do `range()` do python também é um iterável:"
   ]
  },
  {
   "cell_type": "code",
   "execution_count": 54,
   "metadata": {
    "ExecuteTime": {
     "end_time": "2017-11-24T10:48:34.827296",
     "start_time": "2017-11-24T10:48:34.823318"
    },
    "colab": {},
    "colab_type": "code",
    "id": "1K5xdzE3eDna"
   },
   "outputs": [
    {
     "name": "stdout",
     "output_type": "stream",
     "text": [
      "0\n",
      "1\n",
      "2\n"
     ]
    }
   ],
   "source": [
    "for i in range(3):\n",
    "    print(i)"
   ]
  },
  {
   "cell_type": "markdown",
   "metadata": {
    "colab_type": "text",
    "id": "JLHZEISpeDnc"
   },
   "source": [
    "É possível acessar o iterador destas estruturas utilizando o método `iter()` do Python e então é possível percorrer seus elementos utilizado `next()`:"
   ]
  },
  {
   "cell_type": "code",
   "execution_count": 57,
   "metadata": {
    "ExecuteTime": {
     "end_time": "2017-11-24T10:48:34.834575",
     "start_time": "2017-11-24T10:48:34.829061"
    },
    "colab": {},
    "colab_type": "code",
    "id": "22Gp0N4GeDnc"
   },
   "outputs": [
    {
     "name": "stdout",
     "output_type": "stream",
     "text": [
      "tipo de iterador: <class 'list'>\n",
      "tipo de iterador: <class 'list_iterator'>\n",
      "a\n"
     ]
    }
   ],
   "source": [
    "lista = ['a', 'b', 'c']\n",
    "iterador = iter(lista)\n",
    "print('tipo de iterador:', type(lista))\n",
    "print('tipo de iterador:', type(iterador))\n",
    "print(next(iterador))"
   ]
  },
  {
   "cell_type": "markdown",
   "metadata": {
    "colab_type": "text",
    "id": "SZEM37h8eDne"
   },
   "source": [
    "O acesso de iteradores é sequencial e após o ultimo elemento uma exceção é levantada indicando o fim do iterador.\n",
    "Descomente o último `next` e veja o tipo da exceção que acontece."
   ]
  },
  {
   "cell_type": "code",
   "execution_count": 58,
   "metadata": {
    "ExecuteTime": {
     "end_time": "2017-11-24T10:48:34.840458",
     "start_time": "2017-11-24T10:48:34.836436"
    },
    "colab": {},
    "colab_type": "code",
    "id": "cUy0_ggZeDne"
   },
   "outputs": [
    {
     "name": "stdout",
     "output_type": "stream",
     "text": [
      "b\n",
      "c\n"
     ]
    }
   ],
   "source": [
    "print(next(iterador))\n",
    "print(next(iterador))\n",
    "#print(next(iterador))"
   ]
  },
  {
   "cell_type": "markdown",
   "metadata": {
    "colab_type": "text",
    "id": "ESZISzi4eDnh"
   },
   "source": [
    "## Criando objetos iteráveis"
   ]
  },
  {
   "cell_type": "markdown",
   "metadata": {
    "colab_type": "text",
    "id": "cbcDSi3QeDnh"
   },
   "source": [
    "Para implementar um objeto iterador é preciso escrever um método `__next__()` para a classe e para que ele seja acessível como iterável também é necessário escrever um método `__iter__()`: "
   ]
  },
  {
   "cell_type": "code",
   "execution_count": 59,
   "metadata": {
    "ExecuteTime": {
     "end_time": "2017-11-24T10:48:34.848707",
     "start_time": "2017-11-24T10:48:34.842063"
    },
    "colab": {},
    "colab_type": "code",
    "id": "F9S8AzoUeDni"
   },
   "outputs": [],
   "source": [
    "class WordIterator():\n",
    "    def __init__(self, phrase):\n",
    "        self.words = phrase.split()\n",
    "        \n",
    "    def __iter__(self):\n",
    "        self.iter_index = 0\n",
    "        return self\n",
    "    \n",
    "    def __next__(self):\n",
    "        if self.iter_index < len(self.words):\n",
    "            i = self.iter_index\n",
    "            self.iter_index += 1\n",
    "            return self.words[i]\n",
    "        else:\n",
    "            raise StopIteration()"
   ]
  },
  {
   "cell_type": "markdown",
   "metadata": {
    "colab_type": "text",
    "id": "-z2TtcJ8eDnj"
   },
   "source": [
    "A classe acima é um iterador e é iterável. \n",
    "\n",
    "No método `__iter__()` reiniciamos o índice inicial para o iterador e retornamos o próprio objeto (um iterador).\n",
    "\n",
    "No método `__next__()` retornamos a palavra do índice atual ou a exceção de parada, caso seja o fim."
   ]
  },
  {
   "cell_type": "code",
   "execution_count": 60,
   "metadata": {
    "ExecuteTime": {
     "end_time": "2017-11-24T10:48:34.853670",
     "start_time": "2017-11-24T10:48:34.850613"
    },
    "colab": {},
    "colab_type": "code",
    "id": "Zlc02PCceDnk"
   },
   "outputs": [],
   "source": [
    "frase = 'Esta frase é formada por 7 palavras'\n",
    "iterador_de_palavras = WordIterator(frase)"
   ]
  },
  {
   "cell_type": "code",
   "execution_count": 61,
   "metadata": {
    "ExecuteTime": {
     "end_time": "2017-11-24T10:48:34.860627",
     "start_time": "2017-11-24T10:48:34.855389"
    },
    "colab": {},
    "colab_type": "code",
    "id": "cKdwkmK7eDno"
   },
   "outputs": [
    {
     "name": "stdout",
     "output_type": "stream",
     "text": [
      "Esta\n",
      "frase\n",
      "é\n",
      "formada\n",
      "por\n",
      "7\n",
      "palavras\n"
     ]
    }
   ],
   "source": [
    "for palavra in iterador_de_palavras:\n",
    "    print(palavra)"
   ]
  },
  {
   "cell_type": "markdown",
   "metadata": {
    "colab_type": "text",
    "id": "jsjXwE8ZeDnq"
   },
   "source": [
    "### Exercício com iterador"
   ]
  },
  {
   "cell_type": "markdown",
   "metadata": {
    "ExecuteTime": {
     "end_time": "2017-09-29T11:41:50.515551",
     "start_time": "2017-09-29T11:41:50.483441"
    },
    "colab_type": "text",
    "id": "lp8QGKtkeDnr"
   },
   "source": [
    "Crie uma classe `DictIterator` que permita varrer os itens de um dicionário utilizando o `for`"
   ]
  },
  {
   "cell_type": "code",
   "execution_count": 62,
   "metadata": {
    "ExecuteTime": {
     "end_time": "2017-11-24T10:48:34.867197",
     "start_time": "2017-11-24T10:48:34.862428"
    },
    "colab": {},
    "colab_type": "code",
    "id": "qsuRn9dgeDnt"
   },
   "outputs": [],
   "source": [
    "class DictIterator():\n",
    "    def __init__(self, dict):\n",
    "        self.d = list(dict.items())\n",
    "    def __iter__(self):\n",
    "        self.iter_index = 0\n",
    "        return self\n",
    "    def __next__(self):\n",
    "        if self.iter_index < len(self.d):\n",
    "            i = self.iter_index\n",
    "            self.iter_index += 1\n",
    "            return self.d[i]\n",
    "        else:\n",
    "            raise StopIteration()"
   ]
  },
  {
   "cell_type": "code",
   "execution_count": 64,
   "metadata": {
    "ExecuteTime": {
     "end_time": "2017-11-24T10:48:34.873303",
     "start_time": "2017-11-24T10:48:34.868889"
    },
    "colab": {},
    "colab_type": "code",
    "id": "DTx6WmiSeDny"
   },
   "outputs": [
    {
     "name": "stdout",
     "output_type": "stream",
     "text": [
      "('a', 1)\n",
      "('b', 2)\n",
      "('c', 3)\n"
     ]
    }
   ],
   "source": [
    "d = {'a':1,'b': 2, 'c': 3}\n",
    "d_iter = DictIterator(d)\n",
    "for i in d_iter:\n",
    "    print(i)"
   ]
  },
  {
   "cell_type": "markdown",
   "metadata": {
    "colab_type": "text",
    "id": "TXLOBPzjeDn0"
   },
   "source": [
    "## Objeto como função"
   ]
  },
  {
   "cell_type": "markdown",
   "metadata": {
    "ExecuteTime": {
     "end_time": "2017-09-29T14:25:18.470914",
     "start_time": "2017-09-29T14:25:18.467088"
    },
    "colab_type": "text",
    "id": "OWvazZ_DeDn0"
   },
   "source": [
    "É possível declarar uma classe contendo um objeto possa ser chamado (*callable object*).\n",
    "Para isso, a classe deve conter o método `__call__`. Veja o exemplo a seguir:"
   ]
  },
  {
   "cell_type": "code",
   "execution_count": 23,
   "metadata": {
    "ExecuteTime": {
     "end_time": "2017-11-24T10:48:34.878801",
     "start_time": "2017-11-24T10:48:34.875191"
    },
    "colab": {},
    "colab_type": "code",
    "id": "F3t1URNLeDn2"
   },
   "outputs": [],
   "source": [
    "class Scale():\n",
    "    def __init__(self, w):\n",
    "        self._w = w\n",
    "    def __call__(self, x):\n",
    "        return x * self._w"
   ]
  },
  {
   "cell_type": "code",
   "execution_count": 24,
   "metadata": {
    "ExecuteTime": {
     "end_time": "2017-11-24T10:48:34.884098",
     "start_time": "2017-11-24T10:48:34.880506"
    },
    "colab": {},
    "colab_type": "code",
    "id": "qKdj-WjUeDn4"
   },
   "outputs": [
    {
     "name": "stdout",
     "output_type": "stream",
     "text": [
      "500.0\n"
     ]
    }
   ],
   "source": [
    "s = Scale(100.)\n",
    "print(s(5))\n"
   ]
  },
  {
   "cell_type": "markdown",
   "metadata": {
    "colab_type": "text",
    "id": "nXiYJKU-eDn6"
   },
   "source": [
    "### Exercício de classe contendo objeto chamável"
   ]
  },
  {
   "cell_type": "markdown",
   "metadata": {
    "colab_type": "text",
    "id": "kHKrHmCweDn7"
   },
   "source": [
    "Defina uma classe herdada da classe `Scale` que permita modificar a variável `self._w`."
   ]
  },
  {
   "cell_type": "code",
   "execution_count": 25,
   "metadata": {
    "ExecuteTime": {
     "end_time": "2017-11-24T10:48:34.888869",
     "start_time": "2017-11-24T10:48:34.885999"
    },
    "colab": {},
    "colab_type": "code",
    "id": "9TITAfjFeDn7"
   },
   "outputs": [],
   "source": [
    "class AjustaPeso(Scale):\n",
    "    def wset (self, x):\n",
    "        self._w = x"
   ]
  },
  {
   "cell_type": "code",
   "execution_count": 26,
   "metadata": {
    "ExecuteTime": {
     "end_time": "2017-11-24T10:48:34.894058",
     "start_time": "2017-11-24T10:48:34.890663"
    },
    "colab": {},
    "colab_type": "code",
    "id": "lg61OOU6eDn9"
   },
   "outputs": [
    {
     "name": "stdout",
     "output_type": "stream",
     "text": [
      "500.0\n"
     ]
    }
   ],
   "source": [
    "ap = AjustaPeso(100.)\n",
    "print(ap(5))"
   ]
  },
  {
   "cell_type": "code",
   "execution_count": 27,
   "metadata": {
    "ExecuteTime": {
     "end_time": "2017-11-24T10:48:34.898077",
     "start_time": "2017-11-24T10:48:34.895632"
    },
    "colab": {},
    "colab_type": "code",
    "id": "yt71I8GseDn_"
   },
   "outputs": [
    {
     "name": "stdout",
     "output_type": "stream",
     "text": [
      "50\n"
     ]
    }
   ],
   "source": [
    "ap.wset(10)\n",
    "print(ap(5))"
   ]
  },
  {
   "cell_type": "markdown",
   "metadata": {
    "colab_type": "text",
    "id": "jXUvSuhceDoB"
   },
   "source": [
    "# Fim do notebook"
   ]
  }
 ],
 "metadata": {
  "colab": {
   "collapsed_sections": [
    "ansV5TGMeDlA",
    "G6lt3BgVeDmA",
    "jsjXwE8ZeDnq"
   ],
   "name": "Exercicios de Python Avançado.ipynb",
   "provenance": [],
   "toc_visible": true
  },
  "kernelspec": {
   "display_name": "Python 3",
   "language": "python",
   "name": "python3"
  },
  "language_info": {
   "codemirror_mode": {
    "name": "ipython",
    "version": 3
   },
   "file_extension": ".py",
   "mimetype": "text/x-python",
   "name": "python",
   "nbconvert_exporter": "python",
   "pygments_lexer": "ipython3",
   "version": "3.8.1"
  },
  "toc": {
   "base_numbering": 1,
   "nav_menu": {
    "height": "354px",
    "width": "252px"
   },
   "number_sections": true,
   "sideBar": true,
   "skip_h1_title": false,
   "title_cell": "Table of Contents",
   "title_sidebar": "Contents",
   "toc_cell": false,
   "toc_position": {},
   "toc_section_display": "block",
   "toc_window_display": false
  },
  "varInspector": {
   "cols": {
    "lenName": 16,
    "lenType": 16,
    "lenVar": 40
   },
   "kernels_config": {
    "python": {
     "delete_cmd_postfix": "",
     "delete_cmd_prefix": "del ",
     "library": "var_list.py",
     "varRefreshCmd": "print(var_dic_list())"
    },
    "r": {
     "delete_cmd_postfix": ") ",
     "delete_cmd_prefix": "rm(",
     "library": "var_list.r",
     "varRefreshCmd": "cat(var_dic_list()) "
    }
   },
   "types_to_exclude": [
    "module",
    "function",
    "builtin_function_or_method",
    "instance",
    "_Feature"
   ],
   "window_display": false
  }
 },
 "nbformat": 4,
 "nbformat_minor": 2
}
